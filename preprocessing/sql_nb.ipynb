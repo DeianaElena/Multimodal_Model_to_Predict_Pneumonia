{
 "cells": [
  {
   "cell_type": "code",
   "execution_count": 1,
   "metadata": {},
   "outputs": [],
   "source": [
    "#libraries\n",
    "import pandas as pd\n",
    "import matplotlib.pyplot as plt\n",
    "\n",
    "import psycopg2\n",
    "import pandas as pd"
   ]
  },
  {
   "cell_type": "code",
   "execution_count": 2,
   "metadata": {},
   "outputs": [],
   "source": [
    "PATH1 = \"../../data/db/\"\n",
    "\n",
    "PATH2 = \"xray/\"\n",
    "PATH3 = \"/merged/\""
   ]
  },
  {
   "attachments": {},
   "cell_type": "markdown",
   "metadata": {},
   "source": [
    "# Connect to postgres"
   ]
  },
  {
   "cell_type": "code",
   "execution_count": 3,
   "metadata": {},
   "outputs": [
    {
     "name": "stdout",
     "output_type": "stream",
     "text": [
      "Connected successfully\n"
     ]
    }
   ],
   "source": [
    "# pip install psycopg2\n",
    "#%%\n",
    "\n",
    "\n",
    "# Establish a connection to the PostgreSQL database\n",
    "try:\n",
    "    connection = psycopg2.connect(\n",
    "        host=\"localhost\",\n",
    "        database=\"postgres\",\n",
    "        user=\"postgres\",\n",
    "        password=\"\"         #add here the password\n",
    "    )\n",
    "    print(\"Connected successfully\")\n",
    "except:\n",
    "    print(\"NOT able to connect to the database\")\n",
    "\n",
    "# Create a cursor object\n",
    "cur = connection.cursor()"
   ]
  },
  {
   "attachments": {},
   "cell_type": "markdown",
   "metadata": {},
   "source": [
    "# Functions"
   ]
  },
  {
   "cell_type": "code",
   "execution_count": 4,
   "metadata": {},
   "outputs": [],
   "source": [
    "######### FUNCTIONS ##########\n",
    "\n",
    "# function to run sql queries\n",
    "def run_query(cursor, query, params=None):\n",
    "    cursor.execute(query, params)\n",
    "    return cursor.fetchall()\n",
    "\n",
    "# function to transform from query to df\n",
    "def query_to_df(cursor, query, params=None):\n",
    "    # Run the query using the run_query() function\n",
    "    results = run_query(cursor, query, params)\n",
    "    column_names = [desc[0] for desc in cursor.description]\n",
    "    df = pd.DataFrame(results, columns=column_names)\n",
    "    return df\n",
    "\n",
    "# Available schemas: mimiciv_note, mimiciv_hosp, mimic_cxr_sr "
   ]
  },
  {
   "attachments": {},
   "cell_type": "markdown",
   "metadata": {},
   "source": [
    "# Queries"
   ]
  },
  {
   "attachments": {},
   "cell_type": "markdown",
   "metadata": {},
   "source": [
    "## Probably not necessary"
   ]
  },
  {
   "cell_type": "code",
   "execution_count": 5,
   "metadata": {},
   "outputs": [],
   "source": [
    "########### Execute SQL queries  ########\n",
    "# commenting this because running takes a lot of time and not necessary \n",
    "\n",
    "# To take poe dicom_metad from hosp\n",
    "# query = \"\"\"\n",
    "#             SELECT *\n",
    "#             FROM mimiciv_hosp.poe\n",
    "#             ORDER BY poe_seq\n",
    "#         \"\"\"\n",
    "# poe = query_to_df(cur, query)\n",
    "# print(poe.head().to_string())\n"
   ]
  },
  {
   "cell_type": "code",
   "execution_count": 6,
   "metadata": {},
   "outputs": [],
   "source": [
    "# To merge procedure_icd (with icd code)  from mimic-iv hosp patients with cxr based on subject_id\n",
    "# This will create lots of duplicate for each subject since we don't have admission id so not very useful\n",
    "# query = \"\"\"\n",
    "#             SELECT *\n",
    "#             FROM (\n",
    "#                 SELECT * \n",
    "#                 FROM mimic_cxr_sr.cxr_record_list \n",
    "#             ) AS cxr_record_list\n",
    "#             JOIN (\n",
    "#                 SELECT *\n",
    "#                 FROM mimiciv_hosp.procedures_icd\n",
    "#             ) AS procedures_icd\n",
    "#             ON cxr_record_list.subject_id = procedures_icd.subject_id\n",
    "#         \"\"\"\n",
    "# m_icd_cxr = query_to_df(cur, query)\n",
    "# print(m_icd_cxr.head().to_string())"
   ]
  },
  {
   "cell_type": "code",
   "execution_count": 7,
   "metadata": {},
   "outputs": [],
   "source": [
    "# To take cxr_record_list from mimic_cxr_sr\n",
    "# query = \"\"\"\n",
    "#             SELECT *\n",
    "#             FROM mimic_cxr_sr.cxr_record_list\n",
    "#             ORDER BY subject_id\n",
    "#         \"\"\"\n",
    "# cxr_record_list = query_to_df(cur, query)\n",
    "# print(cxr_record_list.head().to_string())"
   ]
  },
  {
   "attachments": {},
   "cell_type": "markdown",
   "metadata": {},
   "source": [
    "### To select clinical notes and subjects with general x-ray"
   ]
  },
  {
   "cell_type": "code",
   "execution_count": 8,
   "metadata": {},
   "outputs": [],
   "source": [
    "# To merge discharge note with poe (mimic-iv) based on subject_id and hadm_id\n",
    "# query = \"\"\"\n",
    "#             SELECT *\n",
    "#             FROM (\n",
    "#                 SELECT poe_id, poe_seq, subject_id, hadm_id, ordertime, order_type, order_subtype\n",
    "#                 FROM mimiciv_hosp.poe \n",
    "#             ) AS poe\n",
    "#             JOIN (\n",
    "#                 SELECT *\n",
    "#                 FROM mimiciv_note.discharge\n",
    "#             ) AS discharge_note\n",
    "#             ON poe.subject_id = discharge_note.subject_id\n",
    "#             AND poe.hadm_id = discharge_note.hadm_id\n",
    "#         \"\"\"\n",
    "\n",
    "# gxray_notes = query_to_df(cur, query)\n",
    "# print(gxray_notes.head().to_string())\n",
    "\n",
    "#time on windows"
   ]
  },
  {
   "attachments": {},
   "cell_type": "markdown",
   "metadata": {},
   "source": [
    "# From mimic-iv"
   ]
  },
  {
   "cell_type": "code",
   "execution_count": 5,
   "metadata": {},
   "outputs": [
    {
     "name": "stdout",
     "output_type": "stream",
     "text": [
      "         poe_id  poe_seq  subject_id   hadm_id           ordertime order_type order_subtype\n",
      "0   10000032-14       14    10000032  22595853 2180-05-06 20:53:47  Radiology  General Xray\n",
      "1   10000032-14       14    10000032  22595853 2180-05-06 20:53:47  Radiology  General Xray\n",
      "2   10000032-66       66    10000032  22841357 2180-06-26 17:06:07  Radiology  General Xray\n",
      "3   10000032-66       66    10000032  22841357 2180-06-26 17:06:07  Radiology  General Xray\n",
      "4  10000032-222      222    10000032  25742920 2180-08-05 23:32:59  Radiology  General Xray\n"
     ]
    }
   ],
   "source": [
    "# To select only the general xray and columns: poe_id, poe_seq, subject_id, hadm_id, ordertime, order_type, order_subtype\n",
    "query = \"\"\"\n",
    "    SELECT poe_id, poe_seq, subject_id, hadm_id, ordertime, order_type, order_subtype\n",
    "    FROM mimiciv_hosp.poe\n",
    "    WHERE order_subtype = 'General Xray'\n",
    "    ORDER BY subject_id, hadm_id, poe_seq\n",
    "\"\"\"\n",
    "gxray = query_to_df(cur, query)\n",
    "print(gxray.head().to_string())\n"
   ]
  },
  {
   "attachments": {},
   "cell_type": "markdown",
   "metadata": {},
   "source": [
    "# From mimic-cxr"
   ]
  },
  {
   "cell_type": "code",
   "execution_count": 6,
   "metadata": {},
   "outputs": [
    {
     "name": "stdout",
     "output_type": "stream",
     "text": [
      "                                       dicom_id  subject_id  study_id PerformedProcedureStepDescription ViewPosition  Rows  Columns  StudyDate           StudyTime ProcedureCodeSequence_CodeMeaning ViewCodeSequence_CodeMeaning PatientOrientationCodeSequence_CodeMeaning\n",
      "0  02aa804e-bde0afdd-112c0b34-7bc16630-4e384014    10000032  50414267                CHEST (PA AND LAT)           PA  3056     2544   21800506  213014.53100000002                CHEST (PA AND LAT)             postero-anterior                                      Erect\n",
      "1  174413ec-4ec4c1f7-34ea26b7-c5f994f8-79ef1962    10000032  50414267                CHEST (PA AND LAT)      LATERAL  3056     2544   21800506  213014.53100000002                CHEST (PA AND LAT)                      lateral                                      Erect\n",
      "2  2a2277a9-b0ded155-c0de8eb9-c124d10e-82c5caab    10000032  53189527                CHEST (PA AND LAT)           PA  3056     2544   21800626          165500.312                CHEST (PA AND LAT)             postero-anterior                                      Erect\n",
      "3  e084de3b-be89b11e-20fe3f9f-9c8d8dfe-4cfd202c    10000032  53189527                CHEST (PA AND LAT)      LATERAL  3056     2544   21800626          165500.312                CHEST (PA AND LAT)                      lateral                                      Erect\n",
      "4  68b5c4b1-227d0485-9cc38c3f-7b84ab51-4b472714    10000032  53911762               CHEST (PORTABLE AP)           AP  2705     2539   21800723           80556.875               CHEST (PORTABLE AP)             antero-posterior                                       None\n"
     ]
    }
   ],
   "source": [
    "# To select metadata from cxr\n",
    "query = \"\"\"\n",
    "    SELECT *\n",
    "    FROM mimic_cxr_sr.dicom_metadata\n",
    "    ORDER BY subject_id\n",
    "\"\"\"\n",
    "dicom_metad = query_to_df(cur, query)\n",
    "print(dicom_metad.head().to_string())"
   ]
  },
  {
   "attachments": {},
   "cell_type": "markdown",
   "metadata": {},
   "source": [
    "# Transforming"
   ]
  },
  {
   "cell_type": "code",
   "execution_count": 11,
   "metadata": {},
   "outputs": [
    {
     "name": "stdout",
     "output_type": "stream",
     "text": [
      "         poe_id  poe_seq  subject_id   hadm_id           ordertime order_type order_subtype   StudyDate      time\n",
      "0   10000032-14       14    10000032  22595853 2180-05-06 20:53:47  Radiology  General Xray  2180-05-06  20:53:47\n",
      "1   10000032-14       14    10000032  22595853 2180-05-06 20:53:47  Radiology  General Xray  2180-05-06  20:53:47\n",
      "2   10000032-66       66    10000032  22841357 2180-06-26 17:06:07  Radiology  General Xray  2180-06-26  17:06:07\n",
      "3   10000032-66       66    10000032  22841357 2180-06-26 17:06:07  Radiology  General Xray  2180-06-26  17:06:07\n",
      "4  10000032-222      222    10000032  25742920 2180-08-05 23:32:59  Radiology  General Xray  2180-08-05  23:32:59\n"
     ]
    }
   ],
   "source": [
    "# Convert and split 'ordertime' column into 'date' and 'time' columns\n",
    "gxray[['StudyDate', 'time']] = gxray['ordertime'].astype(str).str.split(' ', expand=True)\n",
    "\n",
    "# Display the resulting DataFrame\n",
    "print(gxray.head().to_string())"
   ]
  },
  {
   "cell_type": "code",
   "execution_count": 12,
   "metadata": {},
   "outputs": [
    {
     "name": "stdout",
     "output_type": "stream",
     "text": [
      "                                       dicom_id  subject_id  study_id PerformedProcedureStepDescription ViewPosition  Rows  Columns  StudyDate           StudyTime ProcedureCodeSequence_CodeMeaning ViewCodeSequence_CodeMeaning PatientOrientationCodeSequence_CodeMeaning time_formatted       StudyDateTime\n",
      "0  02aa804e-bde0afdd-112c0b34-7bc16630-4e384014    10000032  50414267                CHEST (PA AND LAT)           PA  3056     2544 2180-05-06  213014.53100000002                CHEST (PA AND LAT)             postero-anterior                                      Erect       21:30:14 2180-05-06 21:30:14\n",
      "1  174413ec-4ec4c1f7-34ea26b7-c5f994f8-79ef1962    10000032  50414267                CHEST (PA AND LAT)      LATERAL  3056     2544 2180-05-06  213014.53100000002                CHEST (PA AND LAT)                      lateral                                      Erect       21:30:14 2180-05-06 21:30:14\n",
      "2  2a2277a9-b0ded155-c0de8eb9-c124d10e-82c5caab    10000032  53189527                CHEST (PA AND LAT)           PA  3056     2544 2180-06-26          165500.312                CHEST (PA AND LAT)             postero-anterior                                      Erect       16:55:00 2180-06-26 16:55:00\n",
      "3  e084de3b-be89b11e-20fe3f9f-9c8d8dfe-4cfd202c    10000032  53189527                CHEST (PA AND LAT)      LATERAL  3056     2544 2180-06-26          165500.312                CHEST (PA AND LAT)                      lateral                                      Erect       16:55:00 2180-06-26 16:55:00\n",
      "4  68b5c4b1-227d0485-9cc38c3f-7b84ab51-4b472714    10000032  53911762               CHEST (PORTABLE AP)           AP  2705     2539 2180-07-23           80556.875               CHEST (PORTABLE AP)             antero-posterior                                       None       08:05:56 2180-07-23 08:05:56\n"
     ]
    }
   ],
   "source": [
    "# Convert 'StudyDate' and 'StudyTime' columns in dicom_metad to datetime format\n",
    "dicom_metad['StudyDate'] = pd.to_datetime(dicom_metad['StudyDate'], format='%Y%m%d')\n",
    "\n",
    "# Convert the time column to a string\n",
    "dicom_metad['StudyTime'] = dicom_metad['StudyTime'].astype(str)\n",
    "# dicom_metad['time_part'] = dicom_metad['StudyTime'].str.split('.').str[0]  #to get part before dot\n",
    "\n",
    "# Extract the part before the dot and convert time values\n",
    "dicom_metad['time_formatted'] = dicom_metad['StudyTime'].str.split('.').str[0].apply(lambda x: x.zfill(6)).apply(lambda x: f'{x[:2]}:{x[2:4]}:{x[4:6]}')\n",
    "\n",
    "# Combine 'StudyDate' and 'StudyTime' columns to create 'time_and_date' column in dicom_metad\n",
    "dicom_metad['StudyDateTime'] = pd.to_datetime(dicom_metad['StudyDate'].astype(str) + \" \" + dicom_metad['time_formatted'].astype(str))\n",
    "print(dicom_metad.head().to_string())"
   ]
  },
  {
   "attachments": {},
   "cell_type": "markdown",
   "metadata": {},
   "source": [
    "# Merging based on same date and subject to obtain hadm_id and poe info\n"
   ]
  },
  {
   "cell_type": "code",
   "execution_count": null,
   "metadata": {},
   "outputs": [],
   "source": [
    "# print('Size dicom_metad: ', dicom_metad.shape)  #(377110, 14)\n",
    "# print('Size gxray: ', gxray.shape)    #(1491354, 15)"
   ]
  },
  {
   "cell_type": "code",
   "execution_count": null,
   "metadata": {},
   "outputs": [
    {
     "name": "stdout",
     "output_type": "stream",
     "text": [
      "                                       dicom_id  subject_id  study_id PerformedProcedureStepDescription ViewPosition  Rows  Columns  StudyDate           StudyTime ProcedureCodeSequence_CodeMeaning ViewCodeSequence_CodeMeaning PatientOrientationCodeSequence_CodeMeaning time_formatted       StudyDateTime       poe_id  poe_seq   hadm_id           ordertime order_type order_subtype transaction_type discontinue_of_poe_id discontinued_by_poe_id order_provider_id order_status      time\n",
      "0  02aa804e-bde0afdd-112c0b34-7bc16630-4e384014    10000032  50414267                CHEST (PA AND LAT)           PA  3056     2544 2180-05-06  213014.53100000002                CHEST (PA AND LAT)             postero-anterior                                      Erect       21:30:14 2180-05-06 21:30:14  10000032-14       14  22595853 2180-05-06 20:53:47  Radiology  General Xray              New                  None                   None            P9705S     Inactive  20:53:47\n",
      "1  02aa804e-bde0afdd-112c0b34-7bc16630-4e384014    10000032  50414267                CHEST (PA AND LAT)           PA  3056     2544 2180-05-06  213014.53100000002                CHEST (PA AND LAT)             postero-anterior                                      Erect       21:30:14 2180-05-06 21:30:14  10000032-14       14  22595853 2180-05-06 20:53:47  Radiology  General Xray              New                  None                   None            P9705S     Inactive  20:53:47\n",
      "2  174413ec-4ec4c1f7-34ea26b7-c5f994f8-79ef1962    10000032  50414267                CHEST (PA AND LAT)      LATERAL  3056     2544 2180-05-06  213014.53100000002                CHEST (PA AND LAT)                      lateral                                      Erect       21:30:14 2180-05-06 21:30:14  10000032-14       14  22595853 2180-05-06 20:53:47  Radiology  General Xray              New                  None                   None            P9705S     Inactive  20:53:47\n",
      "3  174413ec-4ec4c1f7-34ea26b7-c5f994f8-79ef1962    10000032  50414267                CHEST (PA AND LAT)      LATERAL  3056     2544 2180-05-06  213014.53100000002                CHEST (PA AND LAT)                      lateral                                      Erect       21:30:14 2180-05-06 21:30:14  10000032-14       14  22595853 2180-05-06 20:53:47  Radiology  General Xray              New                  None                   None            P9705S     Inactive  20:53:47\n",
      "4  2a2277a9-b0ded155-c0de8eb9-c124d10e-82c5caab    10000032  53189527                CHEST (PA AND LAT)           PA  3056     2544 2180-06-26          165500.312                CHEST (PA AND LAT)             postero-anterior                                      Erect       16:55:00 2180-06-26 16:55:00  10000032-66       66  22841357 2180-06-26 17:06:07  Radiology  General Xray              New                  None                   None            P699GL     Inactive  17:06:07\n"
     ]
    }
   ],
   "source": [
    "# Convert to same datetime type\n",
    "dicom_metad['StudyDate'] = pd.to_datetime(dicom_metad['StudyDate'])\n",
    "gxray['StudyDate'] = pd.to_datetime(gxray['StudyDate'])\n",
    "\n",
    "# Concatenate 'gxray' and 'dicom_metad' DataFrames based on same 'date' and 'subject_id'\n",
    "gxray_dicom = pd.merge(dicom_metad, gxray, on=['subject_id', 'StudyDate'], how='inner')\n",
    "\n",
    "# Display the resulting concatenated DataFrame\n",
    "print(gxray_dicom.head().to_string())"
   ]
  },
  {
   "cell_type": "code",
   "execution_count": null,
   "metadata": {},
   "outputs": [
    {
     "name": "stdout",
     "output_type": "stream",
     "text": [
      "Size gxray_dicom:  (678042, 26)\n"
     ]
    }
   ],
   "source": [
    "print('Size gxray_dicom: ', gxray_dicom.shape)  #(678042, 27)"
   ]
  },
  {
   "attachments": {},
   "cell_type": "markdown",
   "metadata": {},
   "source": [
    "## Remove duplicates"
   ]
  },
  {
   "cell_type": "code",
   "execution_count": null,
   "metadata": {},
   "outputs": [],
   "source": [
    "#removing duplicates row based on dicom_id\n",
    "duplicates = gxray_dicom.duplicated(subset='dicom_id', keep='first')\n",
    "gxray_dicom = gxray_dicom[~duplicates]  #shape (215741, 28)"
   ]
  },
  {
   "attachments": {},
   "cell_type": "markdown",
   "metadata": {},
   "source": [
    "## Editing columns in gxray_dicom"
   ]
  },
  {
   "cell_type": "code",
   "execution_count": null,
   "metadata": {},
   "outputs": [],
   "source": [
    "#moving column time next to study time\n",
    "time = gxray_dicom.pop('time')\n",
    "gxray_dicom.insert(gxray_dicom.columns.get_loc('time_formatted') + 1, 'time', time)"
   ]
  },
  {
   "cell_type": "code",
   "execution_count": null,
   "metadata": {},
   "outputs": [
    {
     "name": "stdout",
     "output_type": "stream",
     "text": [
      "                                       dicom_id  subject_id  study_id PerformedProcedureStepDescription ViewPosition  Rows  Columns  StudyDate           StudyTime ProcedureCodeSequence_CodeMeaning ViewCodeSequence_CodeMeaning PatientOrientationCodeSequence_CodeMeaning time_formatted      time       StudyDateTime        poe_id  poe_seq   hadm_id           ordertime order_type order_subtype transaction_type discontinue_of_poe_id discontinued_by_poe_id order_provider_id order_status\n",
      "0  02aa804e-bde0afdd-112c0b34-7bc16630-4e384014    10000032  50414267                CHEST (PA AND LAT)           PA  3056     2544 2180-05-06  213014.53100000002                CHEST (PA AND LAT)             postero-anterior                                      Erect       21:30:14  20:53:47 2180-05-06 21:30:14   10000032-14       14  22595853 2180-05-06 20:53:47  Radiology  General Xray              New                  None                   None            P9705S     Inactive\n",
      "2  174413ec-4ec4c1f7-34ea26b7-c5f994f8-79ef1962    10000032  50414267                CHEST (PA AND LAT)      LATERAL  3056     2544 2180-05-06  213014.53100000002                CHEST (PA AND LAT)                      lateral                                      Erect       21:30:14  20:53:47 2180-05-06 21:30:14   10000032-14       14  22595853 2180-05-06 20:53:47  Radiology  General Xray              New                  None                   None            P9705S     Inactive\n",
      "4  2a2277a9-b0ded155-c0de8eb9-c124d10e-82c5caab    10000032  53189527                CHEST (PA AND LAT)           PA  3056     2544 2180-06-26          165500.312                CHEST (PA AND LAT)             postero-anterior                                      Erect       16:55:00  17:06:07 2180-06-26 16:55:00   10000032-66       66  22841357 2180-06-26 17:06:07  Radiology  General Xray              New                  None                   None            P699GL     Inactive\n",
      "6  e084de3b-be89b11e-20fe3f9f-9c8d8dfe-4cfd202c    10000032  53189527                CHEST (PA AND LAT)      LATERAL  3056     2544 2180-06-26          165500.312                CHEST (PA AND LAT)                      lateral                                      Erect       16:55:00  17:06:07 2180-06-26 16:55:00   10000032-66       66  22841357 2180-06-26 17:06:07  Radiology  General Xray              New                  None                   None            P699GL     Inactive\n",
      "8  68b5c4b1-227d0485-9cc38c3f-7b84ab51-4b472714    10000032  53911762               CHEST (PORTABLE AP)           AP  2705     2539 2180-07-23           80556.875               CHEST (PORTABLE AP)             antero-posterior                                       None       08:05:56  06:11:22 2180-07-23 08:05:56  10000032-118      118  29079034 2180-07-23 06:11:22  Radiology  General Xray              New                  None                   None            P921PD     Inactive\n"
     ]
    }
   ],
   "source": [
    "print(gxray_dicom.head().to_string())"
   ]
  },
  {
   "attachments": {},
   "cell_type": "markdown",
   "metadata": {},
   "source": [
    "## Adding difference in time  between time formatted and time\n",
    "\n",
    "Time formatted = \n",
    "Time = "
   ]
  },
  {
   "cell_type": "code",
   "execution_count": null,
   "metadata": {},
   "outputs": [],
   "source": [
    "from datetime import datetime, timedelta\n",
    "#adding cols to see difference in time between time formatted and time\n",
    "gxray_dicom['time_formatted'] = pd.to_timedelta(gxray_dicom['time_formatted'])\n",
    "gxray_dicom['time'] = pd.to_timedelta(gxray_dicom['time'])\n",
    "\n",
    "\n",
    "# Calculate time difference in seconds\n",
    "gxray_dicom['time_diff_seconds'] = (gxray_dicom['time_formatted'] - gxray_dicom['time']).dt.total_seconds()\n",
    "\n",
    "# Format time difference as time string\n",
    "gxray_dicom['time_diff'] = pd.to_datetime(gxray_dicom['time_diff_seconds'], unit='s').dt.strftime('%H:%M:%S')\n",
    "\n",
    "\n",
    "#add column next to time\n",
    "gxray_dicom.insert(gxray_dicom.columns.get_loc('time') + 1, 'time_diff', gxray_dicom.pop('time_diff'))\n",
    "\n",
    "#add column next to time_diff\n",
    "gxray_dicom.insert(gxray_dicom.columns.get_loc('time') + 1, 'time_diff_seconds', gxray_dicom.pop('time_diff_seconds'))"
   ]
  },
  {
   "cell_type": "code",
   "execution_count": null,
   "metadata": {},
   "outputs": [
    {
     "name": "stdout",
     "output_type": "stream",
     "text": [
      "                                       dicom_id  subject_id  study_id PerformedProcedureStepDescription ViewPosition  Rows  Columns  StudyDate           StudyTime ProcedureCodeSequence_CodeMeaning ViewCodeSequence_CodeMeaning PatientOrientationCodeSequence_CodeMeaning  time_formatted            time  time_diff_seconds time_diff       StudyDateTime        poe_id  poe_seq   hadm_id           ordertime order_type order_subtype transaction_type discontinue_of_poe_id discontinued_by_poe_id order_provider_id order_status\n",
      "0  02aa804e-bde0afdd-112c0b34-7bc16630-4e384014    10000032  50414267                CHEST (PA AND LAT)           PA  3056     2544 2180-05-06  213014.53100000002                CHEST (PA AND LAT)             postero-anterior                                      Erect 0 days 21:30:14 0 days 20:53:47             2187.0  00:36:27 2180-05-06 21:30:14   10000032-14       14  22595853 2180-05-06 20:53:47  Radiology  General Xray              New                  None                   None            P9705S     Inactive\n",
      "2  174413ec-4ec4c1f7-34ea26b7-c5f994f8-79ef1962    10000032  50414267                CHEST (PA AND LAT)      LATERAL  3056     2544 2180-05-06  213014.53100000002                CHEST (PA AND LAT)                      lateral                                      Erect 0 days 21:30:14 0 days 20:53:47             2187.0  00:36:27 2180-05-06 21:30:14   10000032-14       14  22595853 2180-05-06 20:53:47  Radiology  General Xray              New                  None                   None            P9705S     Inactive\n",
      "4  2a2277a9-b0ded155-c0de8eb9-c124d10e-82c5caab    10000032  53189527                CHEST (PA AND LAT)           PA  3056     2544 2180-06-26          165500.312                CHEST (PA AND LAT)             postero-anterior                                      Erect 0 days 16:55:00 0 days 17:06:07             -667.0  23:48:53 2180-06-26 16:55:00   10000032-66       66  22841357 2180-06-26 17:06:07  Radiology  General Xray              New                  None                   None            P699GL     Inactive\n",
      "6  e084de3b-be89b11e-20fe3f9f-9c8d8dfe-4cfd202c    10000032  53189527                CHEST (PA AND LAT)      LATERAL  3056     2544 2180-06-26          165500.312                CHEST (PA AND LAT)                      lateral                                      Erect 0 days 16:55:00 0 days 17:06:07             -667.0  23:48:53 2180-06-26 16:55:00   10000032-66       66  22841357 2180-06-26 17:06:07  Radiology  General Xray              New                  None                   None            P699GL     Inactive\n",
      "8  68b5c4b1-227d0485-9cc38c3f-7b84ab51-4b472714    10000032  53911762               CHEST (PORTABLE AP)           AP  2705     2539 2180-07-23           80556.875               CHEST (PORTABLE AP)             antero-posterior                                       None 0 days 08:05:56 0 days 06:11:22             6874.0  01:54:34 2180-07-23 08:05:56  10000032-118      118  29079034 2180-07-23 06:11:22  Radiology  General Xray              New                  None                   None            P921PD     Inactive\n"
     ]
    }
   ],
   "source": [
    "print(gxray_dicom.head().to_string())"
   ]
  },
  {
   "attachments": {},
   "cell_type": "markdown",
   "metadata": {},
   "source": [
    "## Saving DFs"
   ]
  },
  {
   "cell_type": "code",
   "execution_count": null,
   "metadata": {},
   "outputs": [],
   "source": [
    "\n",
    "# dicom_metad.to_csv(PATH1+PATH2+\"dicom_metad.csv\")\n",
    "# gxray.to_csv(PATH1+PATH2+\"gxray.csv\")\n",
    "gxray_dicom.to_csv(PATH1+PATH2+\"gxray_dicom.csv\")"
   ]
  },
  {
   "cell_type": "markdown",
   "metadata": {},
   "source": [
    "# Feature Engineering: AGE"
   ]
  },
  {
   "cell_type": "markdown",
   "metadata": {},
   "source": []
  },
  {
   "cell_type": "code",
   "execution_count": 7,
   "metadata": {},
   "outputs": [
    {
     "name": "stdout",
     "output_type": "stream",
     "text": [
      "    subject_id           admittime   hadm_id admit_year admit_month admit_day  anchor_year  anchor_age   age\n",
      "0     10000032 2180-05-06 22:23:00  22595853       2180           5         6         2180          52  52.0\n",
      "1     10000032 2180-06-26 18:27:00  22841357       2180           6        26         2180          52  52.0\n",
      "2     10000032 2180-07-23 12:35:00  29079034       2180           7        23         2180          52  52.0\n",
      "3     10000032 2180-08-05 23:44:00  25742920       2180           8         5         2180          52  52.0\n",
      "4     10000068 2160-03-03 23:16:00  25022803       2160           3         3         2160          19  19.0\n",
      "5     10000084 2160-11-21 01:56:00  23052089       2160          11        21         2160          72  72.0\n",
      "6     10000084 2160-12-28 05:11:00  29888819       2160          12        28         2160          72  72.0\n",
      "7     10000108 2163-09-27 23:17:00  27250926       2163           9        27         2163          25  25.0\n",
      "8     10000248 2192-11-30 01:25:00  20600184       2192          11        30         2192          34  34.0\n",
      "9     10000280 2151-03-18 03:28:00  25852320       2151           3        18         2151          20  20.0\n",
      "10    10000560 2189-10-15 10:30:00  28979390       2189          10        15         2189          53  53.0\n",
      "11    10000635 2136-06-19 14:24:00  26134563       2136           6        19         2136          74  74.0\n",
      "12    10000719 2140-04-15 00:14:00  24558333       2140           4        15         2140          34  34.0\n",
      "13    10000764 2132-10-14 23:31:00  27897940       2132          10        14         2132          86  86.0\n",
      "14    10000826 2146-12-05 19:07:00  20032235       2146          12         5         2146          32  32.0\n",
      "15    10000826 2146-12-18 17:39:00  21086876       2146          12        18         2146          32  32.0\n",
      "16    10000826 2146-12-31 00:43:00  28289260       2146          12        31         2146          32  32.0\n",
      "17    10000883 2124-05-14 17:25:00  29957930       2124           5        14         2124          20  20.0\n",
      "18    10000883 2124-05-14 21:11:00  25221576       2124           5        14         2124          20  20.0\n",
      "19    10000886 2178-05-08 08:07:00  21927847       2178           5         8         2178          18  18.0\n",
      "20    10000904 2180-10-09 15:55:00  28328117       2180          10         9         2180          22  22.0\n",
      "21    10001176 2186-11-29 03:56:00  23334588       2186          11        29         2186          64  64.0\n",
      "22    10001186 2188-09-24 15:33:00  24906418       2188           9        24         2188          46  46.0\n",
      "23    10001186 2188-10-20 07:15:00  24016413       2188          10        20         2188          46  46.0\n",
      "24    10001217 2157-11-18 22:56:00  24597018       2157          11        18         2157          55  55.0\n",
      "25    10001217 2157-12-18 16:58:00  27703517       2157          12        18         2157          55  55.0\n",
      "26    10001338 2138-05-09 19:47:00  22119639       2138           5         9         2138          43  43.0\n",
      "27    10001338 2138-06-03 09:57:00  28835314       2138           6         3         2138          43  43.0\n",
      "28    10001401 2131-06-04 00:00:00  21544441       2131           6         4         2131          89  89.0\n",
      "29    10001401 2131-06-19 21:32:00  26840593       2131           6        19         2131          89  89.0\n",
      "30    10001401 2131-07-30 21:40:00  24818636       2131           7        30         2131          89  89.0\n",
      "31    10001401 2131-10-01 01:33:00  27060146       2131          10         1         2131          89  89.0\n",
      "32    10001401 2131-11-13 23:15:00  28058085       2131          11        13         2131          89  89.0\n",
      "33    10001472 2186-01-10 00:00:00  23506139       2186           1        10         2186          35  35.0\n",
      "34    10001492 2136-09-23 18:02:00  27463908       2136           9        23         2136          71  71.0\n",
      "35    10001663 2145-03-15 02:42:00  23405714       2145           3        15         2145          55  55.0\n",
      "36    10001667 2173-08-22 17:16:00  22672901       2173           8        22         2173          86  86.0\n",
      "37    10001725 2110-04-11 15:08:00  25563031       2110           4        11         2110          46  46.0\n",
      "38    10001843 2131-11-09 16:05:00  21728396       2131          11         9         2131          73  73.0\n",
      "39    10001860 2188-03-27 01:54:00  21441082       2188           3        27         2188          84  84.0\n",
      "40    10001877 2149-05-21 15:53:00  25679292       2149           5        21         2149          89  89.0\n",
      "41    10001919 2124-04-20 00:00:00  29897682       2124           4        20         2124          59  59.0\n",
      "42    10002012 2167-03-16 21:57:00  23699233       2167           3        16         2167          19  19.0\n",
      "43    10002013 2156-06-28 15:53:00  28603984       2156           6        28         2156          53  53.0\n",
      "44    10002013 2156-11-01 14:53:00  25715803       2156          11         1         2156          53  53.0\n",
      "45    10002131 2123-04-01 13:12:00  27411540       2123           4         1         2123          87  87.0\n",
      "46    10002131 2123-06-25 14:32:00  22798184       2123           6        25         2123          87  87.0\n",
      "47    10002155 2128-07-29 17:01:00  28439444       2128           7        29         2128          80  80.0\n",
      "48    10002167 2163-09-04 08:00:00  29383904       2163           9         4         2163          34  34.0\n",
      "49    10002221 2200-09-29 17:28:00  21008195       2200           9        29         2200          68  68.0\n",
      "50    10002315 2161-03-23 23:49:00  22798410       2161           3        23         2161          27  27.0\n",
      "51    10002348 2112-11-30 22:22:00  22725460       2112          11        30         2112          77  77.0\n",
      "52    10002428 2155-07-14 19:15:00  25797028       2155           7        14         2155          80  80.0\n",
      "53    10002430 2125-06-23 09:00:00  27218502       2125           6        23         2125          86  86.0\n",
      "54    10002430 2125-09-28 17:47:00  24513842       2125           9        28         2125          86  86.0\n",
      "55    10002443 2183-10-17 23:20:00  21329021       2183          10        17         2183          53  53.0\n",
      "56    10002495 2141-05-22 20:17:00  24982426       2141           5        22         2141          81  81.0\n",
      "57    10002528 2168-12-11 05:13:00  23193578       2168          12        11         2168          26  26.0\n",
      "58    10002545 2158-09-06 22:38:00  21824331       2158           9         6         2158          37  37.0\n",
      "59    10002559 2179-06-05 02:22:00  22034413       2179           6         5         2179          21  21.0\n",
      "60    10002751 2174-02-08 11:21:00  22002850       2174           2         8         2174          39  39.0\n",
      "61    10002760 2141-04-20 07:15:00  28094813       2141           4        20         2141          56  56.0\n",
      "62    10002769 2173-05-29 13:45:00  28314592       2173           5        29         2173          58  58.0\n",
      "63    10002800 2164-02-23 07:15:00  22634923       2164           2        23         2164          32  32.0\n",
      "64    10002800 2164-07-12 21:31:00  20798638       2164           7        12         2164          32  32.0\n",
      "65    10002800 2164-07-31 12:49:00  21095886       2164           7        31         2164          32  32.0\n",
      "66    10002869 2134-01-25 22:55:00  27026861       2134           1        25         2134          38  38.0\n",
      "67    10002870 2124-06-20 16:52:00  25351634       2124           6        20         2124          58  58.0\n",
      "68    10002930 2193-08-05 06:18:00  22380825       2193           8         5         2193          48  48.0\n",
      "69    10002930 2193-08-05 11:45:00  23688993       2193           8         5         2193          48  48.0\n",
      "70    10003019 2171-05-04 09:00:00  23693618       2171           5         4         2171          69  69.0\n",
      "71    10003046 2154-01-02 07:15:00  26048429       2154           1         2         2154          64  64.0\n",
      "72    10003052 2153-10-16 06:45:00  24976184       2153          10        16         2153          79  79.0\n",
      "73    10003199 2110-11-16 13:49:00  21858062       2110          11        16         2110          69  69.0\n",
      "74    10003203 2153-04-26 02:05:00  25146997       2153           4        26         2153          89  89.0\n",
      "75    10003299 2173-05-12 12:29:00  21743184       2173           5        12         2173          65  65.0\n",
      "76    10003299 2173-11-19 17:25:00  22087674       2173          11        19         2173          65  65.0\n",
      "77    10003372 2185-07-06 00:00:00  22448043       2185           7         6         2185          73  73.0\n",
      "78    10003400 2134-06-06 02:25:00  26090619       2134           6         6         2134          72  72.0\n",
      "79    10003412 2173-01-11 00:00:00  28884815       2173           1        11         2173          44  44.0\n",
      "80    10003502 2161-06-29 14:34:00  22491625       2161           6        29         2161          86  86.0\n",
      "81    10003637 2145-01-04 19:56:00  26115941       2145           1         4         2145          57  57.0\n",
      "82    10003637 2145-11-23 07:15:00  22394931       2145          11        23         2145          57  57.0\n",
      "83    10003757 2142-09-11 04:10:00  26829618       2142           9        11         2142          91  91.0\n",
      "84    10003956 2172-12-20 03:26:00  29239104       2172          12        20         2172          31  31.0\n",
      "85    10004113 2173-03-20 00:00:00  29879900       2173           3        20         2173          33  33.0\n",
      "86    10004235 2196-02-24 14:38:00  24181354       2196           2        24         2196          47  47.0\n",
      "87    10004235 2196-06-14 08:30:00  25970245       2196           6        14         2196          47  47.0\n",
      "88    10004235 2196-06-20 21:11:00  22187210       2196           6        20         2196          47  47.0\n",
      "89    10004296 2168-10-29 19:50:00  21736479       2168          10        29         2168          34  34.0\n",
      "90    10004322 2131-01-23 21:30:00  28755331       2131           1        23         2131          60  60.0\n",
      "91    10004365 2159-12-21 16:54:00  26652461       2159          12        21         2159          38  38.0\n",
      "92    10004401 2141-06-06 19:20:00  21085166       2141           6         6         2141          82  82.0\n",
      "93    10004422 2111-01-15 14:55:00  21255400       2111           1        15         2111          78  78.0\n",
      "94    10004457 2140-09-17 13:41:00  21039249       2140           9        17         2140          65  65.0\n",
      "95    10004606 2159-02-20 13:43:00  29242151       2159           2        20         2159          64  64.0\n",
      "96    10004606 2159-03-14 20:02:00  23517634       2159           3        14         2159          64  64.0\n",
      "97    10004606 2159-04-05 01:58:00  28731738       2159           4         5         2159          64  64.0\n",
      "98    10004606 2159-09-14 02:34:00  28691361       2159           9        14         2159          64  64.0\n",
      "99    10004638 2171-12-20 10:00:00  25081565       2171          12        20         2171          64  64.0\n"
     ]
    }
   ],
   "source": [
    "# Therefore, the age of a patient = hospital admission time - anchor_year + anchor_age\n",
    "\n",
    "\n",
    "query = \"\"\"\n",
    "    SELECT DISTINCT\n",
    "        admis.subject_id,\n",
    "        admis.admittime,\n",
    "        admis.hadm_id,\n",
    "        EXTRACT(year FROM admis.admittime) AS admit_year,\n",
    "        EXTRACT(month FROM admis.admittime) AS admit_month,\n",
    "        EXTRACT(day FROM admis.admittime) AS admit_day,\n",
    "        pat.anchor_year,\n",
    "        pat.anchor_age,\n",
    "        DATE_PART('year', admis.admittime::DATE) - pat.anchor_year + pat.anchor_age AS age\n",
    "    FROM\n",
    "        mimiciv_hosp.admissions admis\n",
    "    INNER JOIN\n",
    "        mimiciv_hosp.patients pat ON admis.subject_id = pat.subject_id    \n",
    "                                AND EXTRACT(year FROM admis.admittime) = pat.anchor_year\n",
    "\"\"\"\n",
    "\n",
    "age_q = query_to_df(cur, query)\n",
    "print(age_q.head(100).to_string())\n"
   ]
  },
  {
   "cell_type": "code",
   "execution_count": 26,
   "metadata": {},
   "outputs": [
    {
     "name": "stdout",
     "output_type": "stream",
     "text": [
      "Total rows: 218614\n"
     ]
    }
   ],
   "source": [
    "\n",
    "total_rows = age_q.shape[0]\n",
    "print(\"Total rows:\", total_rows)  #218614   "
   ]
  },
  {
   "cell_type": "markdown",
   "metadata": {},
   "source": [
    "# Feature Engineering: BMI"
   ]
  },
  {
   "cell_type": "code",
   "execution_count": 7,
   "metadata": {},
   "outputs": [],
   "source": [
    "# #checking the unique value present in chartime to fins out if bmi is present\n",
    "# query = \"\"\"\n",
    "#     SELECT DISTINCT\n",
    "#         ch_events.valueuom AS unique_name\n",
    "#     FROM\n",
    "#         mimiciv_icu.chartevents ch_events\n",
    "# \"\"\"\n",
    "# unique_names = query_to_df(cur, query)\n",
    "# print(unique_names.head(1000).to_string())  #max 58 different measurements\n",
    "\n",
    "# #here we can see that bmi is not present but kg and cm yes. But the values are wrong/unrealistic so not reliable.\n"
   ]
  },
  {
   "cell_type": "code",
   "execution_count": 8,
   "metadata": {},
   "outputs": [
    {
     "name": "stdout",
     "output_type": "stream",
     "text": [
      "    subject_id   chartdate anchor_year anchor_month anchor_day  result_name   bmi\n",
      "0     10000032  2180-05-07        2180            5          7  BMI (kg/m2)  18.0\n",
      "1     10000032  2180-05-25        2180            5         25  BMI (kg/m2)  18.6\n",
      "2     10000032  2180-06-01        2180            6          1  BMI (kg/m2)  18.7\n",
      "3     10000032  2180-06-22        2180            6         22  BMI (kg/m2)  18.9\n",
      "4     10000032  2180-06-27        2180            6         27  BMI (kg/m2)  19.2\n",
      "5     10000032  2180-06-30        2180            6         30  BMI (kg/m2)  18.0\n",
      "6     10000032  2180-07-09        2180            7          9  BMI (kg/m2)  18.7\n",
      "7     10000032  2180-08-06        2180            8          6  BMI (kg/m2)  18.2\n",
      "8     10000084  2160-11-21        2160           11         21  BMI (kg/m2)  24.4\n",
      "9     10000117  2175-09-08        2175            9          8  BMI (kg/m2)  19.6\n",
      "10    10000117  2176-02-10        2176            2         10  BMI (kg/m2)  20.8\n",
      "11    10000117  2176-02-21        2176            2         21  BMI (kg/m2)  19.9\n",
      "12    10000117  2176-09-08        2176            9          8  BMI (kg/m2)  18.7\n",
      "13    10000117  2178-03-26        2178            3         26  BMI (kg/m2)  19.4\n",
      "14    10000117  2178-08-28        2178            8         28  BMI (kg/m2)  18.8\n",
      "15    10000117  2178-09-18        2178            9         18  BMI (kg/m2)  18.9\n",
      "16    10000117  2180-07-21        2180            7         21  BMI (kg/m2)  19.1\n",
      "17    10000117  2180-08-31        2180            8         31  BMI (kg/m2)  19.6\n",
      "18    10000117  2181-08-10        2181            8         10  BMI (kg/m2)  18.1\n",
      "19    10000117  2181-11-11        2181           11         11  BMI (kg/m2)  17.6\n",
      "20    10000117  2181-11-15        2181           11         15  BMI (kg/m2)  17.0\n",
      "21    10000117  2181-11-22        2181           11         22  BMI (kg/m2)  17.1\n",
      "22    10000117  2181-12-27        2181           12         27  BMI (kg/m2)  17.6\n",
      "23    10000117  2182-03-21        2182            3         21  BMI (kg/m2)  18.1\n",
      "24    10000117  2183-02-22        2183            2         22  BMI (kg/m2)  18.2\n",
      "25    10000117  2183-03-08        2183            3          8  BMI (kg/m2)  17.8\n",
      "26    10000117  2183-04-12        2183            4         12  BMI (kg/m2)  17.6\n",
      "27    10000117  2183-06-27        2183            6         27  BMI (kg/m2)  17.6\n",
      "28    10000117  2183-09-18        2183            9         18  BMI (kg/m2)  18.7\n",
      "29    10000117  2183-10-10        2183           10         10  BMI (kg/m2)  18.2\n",
      "30    10000117  2184-01-07        2184            1          7  BMI (kg/m2)  18.8\n",
      "31    10000117  2184-02-15        2184            2         15  BMI (kg/m2)  18.6\n",
      "32    10000117  2184-08-14        2184            8         14  BMI (kg/m2)  19.0\n",
      "33    10000117  2184-09-16        2184            9         16  BMI (kg/m2)  18.9\n",
      "34    10000248  2192-11-30        2192           11         30  BMI (kg/m2)  25.5\n",
      "35    10000635  2136-04-05        2136            4          5  BMI (kg/m2)  31.7\n",
      "36    10000635  2136-06-19        2136            6         19  BMI (kg/m2)  37.1\n",
      "37    10000635  2136-07-05        2136            7          5  BMI (kg/m2)  34.5\n",
      "38    10000635  2137-02-07        2137            2          7  BMI (kg/m2)  34.9\n",
      "39    10000635  2138-01-23        2138            1         23  BMI (kg/m2)  33.1\n",
      "40    10000635  2139-01-22        2139            1         22  BMI (kg/m2)  31.8\n",
      "41    10000635  2142-05-02        2142            5          2  BMI (kg/m2)  34.8\n",
      "42    10000719  2140-11-14        2140           11         14  BMI (kg/m2)  37.0\n",
      "43    10000764  2132-10-15        2132           10         15  BMI (kg/m2)  28.6\n",
      "44    10000826  2147-11-23        2147           11         23  BMI (kg/m2)  20.5\n",
      "45    10000826  2148-01-27        2148            1         27  BMI (kg/m2)  19.9\n",
      "46    10000826  2148-07-06        2148            7          6  BMI (kg/m2)  22.3\n",
      "47    10000898  2187-10-23        2187           10         23  BMI (kg/m2)  30.6\n",
      "48    10000898  2188-01-22        2188            1         22  BMI (kg/m2)  30.6\n",
      "49    10000898  2188-02-05        2188            2          5  BMI (kg/m2)  30.8\n",
      "50    10000898  2188-03-12        2188            3         12  BMI (kg/m2)  30.6\n",
      "51    10000898  2188-07-31        2188            7         31  BMI (kg/m2)  31.4\n",
      "52    10000898  2188-09-09        2188            9          9  BMI (kg/m2)  30.4\n",
      "53    10000898  2188-09-18        2188            9         18  BMI (kg/m2)  30.5\n",
      "54    10000898  2188-09-25        2188            9         25  BMI (kg/m2)  30.5\n",
      "55    10000898  2189-03-12        2189            3         12  BMI (kg/m2)  30.6\n",
      "56    10000980  2185-06-17        2185            6         17  BMI (kg/m2)  33.6\n",
      "57    10000980  2185-09-17        2185            9         17  BMI (kg/m2)  34.0\n",
      "58    10000980  2185-12-17        2185           12         17  BMI (kg/m2)  34.2\n",
      "59    10000980  2186-03-17        2186            3         17  BMI (kg/m2)  34.0\n",
      "60    10000980  2186-09-15        2186            9         15  BMI (kg/m2)  34.2\n",
      "61    10000980  2186-11-19        2186           11         19  BMI (kg/m2)  33.4\n",
      "62    10000980  2186-11-24        2186           11         24  BMI (kg/m2)  33.2\n",
      "63    10000980  2187-02-25        2187            2         25  BMI (kg/m2)  33.7\n",
      "64    10000980  2187-04-29        2187            4         29  BMI (kg/m2)  33.7\n",
      "65    10000980  2187-06-17        2187            6         17  BMI (kg/m2)  33.0\n",
      "66    10000980  2187-10-01        2187           10          1  BMI (kg/m2)  33.2\n",
      "67    10000980  2187-10-21        2187           10         21  BMI (kg/m2)  33.2\n",
      "68    10000980  2188-01-14        2188            1         14  BMI (kg/m2)  32.0\n",
      "69    10000980  2188-01-21        2188            1         21  BMI (kg/m2)  31.6\n",
      "70    10000980  2188-02-01        2188            2          1  BMI (kg/m2)  31.8\n",
      "71    10000980  2188-03-02        2188            3          2  BMI (kg/m2)  31.8\n",
      "72    10000980  2188-04-04        2188            4          4  BMI (kg/m2)  32.0\n",
      "73    10000980  2188-04-27        2188            4         27  BMI (kg/m2)  32.2\n",
      "74    10000980  2188-06-21        2188            6         21  BMI (kg/m2)  31.4\n",
      "75    10000980  2188-07-27        2188            7         27  BMI (kg/m2)  31.6\n",
      "76    10000980  2188-09-19        2188            9         19  BMI (kg/m2)  31.6\n",
      "77    10000980  2188-10-18        2188           10         18  BMI (kg/m2)  30.6\n",
      "78    10000980  2189-01-26        2189            1         26  BMI (kg/m2)  31.7\n",
      "79    10000980  2189-02-01        2189            2          1  BMI (kg/m2)  31.6\n",
      "80    10000980  2189-04-25        2189            4         25  BMI (kg/m2)  31.4\n",
      "81    10000980  2189-04-27        2189            4         27  BMI (kg/m2)  31.8\n",
      "82    10000980  2189-07-10        2189            7         10  BMI (kg/m2)  30.6\n",
      "83    10000980  2189-08-21        2189            8         21  BMI (kg/m2)  31.4\n",
      "84    10000980  2189-09-11        2189            9         11  BMI (kg/m2)  31.4\n",
      "85    10000980  2189-10-11        2189           10         11  BMI (kg/m2)  32.3\n",
      "86    10000980  2189-11-07        2189           11          7  BMI (kg/m2)  31.9\n",
      "87    10000980  2189-12-11        2189           12         11  BMI (kg/m2)  31.9\n",
      "88    10000980  2189-12-13        2189           12         13  BMI (kg/m2)  32.1\n",
      "89    10000980  2190-02-06        2190            2          6  BMI (kg/m2)  31.9\n",
      "90    10000980  2190-06-11        2190            6         11  BMI (kg/m2)  32.7\n",
      "91    10000980  2190-07-31        2190            7         31  BMI (kg/m2)  33.0\n",
      "92    10000980  2190-08-22        2190            8         22  BMI (kg/m2)  34.1\n",
      "93    10000980  2190-10-25        2190           10         25  BMI (kg/m2)  33.0\n",
      "94    10000980  2190-11-07        2190           11          7  BMI (kg/m2)  32.3\n",
      "95    10000980  2190-11-21        2190           11         21  BMI (kg/m2)  32.0\n",
      "96    10000980  2190-12-19        2190           12         19  BMI (kg/m2)  30.6\n",
      "97    10000980  2191-02-19        2191            2         19  BMI (kg/m2)  31.2\n",
      "98    10000980  2191-02-20        2191            2         20  BMI (kg/m2)  31.5\n",
      "99    10000980  2191-04-03        2191            4          3  BMI (kg/m2)  26.3\n"
     ]
    }
   ],
   "source": [
    "#extract subject_id, chartdate, result_name from hosp > omr when result_name == BMI (kg/m2)\n",
    "#from chardate extract anchor_year\n",
    "#add bmi column merging based on subject_id and anchor_year\n",
    "\n",
    "\n",
    "query = \"\"\"\n",
    "    SELECT\n",
    "        omr.subject_id,\n",
    "        omr.chartdate,\n",
    "        EXTRACT(year FROM omr.chartdate) AS anchor_year,\n",
    "        EXTRACT(month FROM omr.chartdate) AS anchor_month,\n",
    "        EXTRACT(day FROM omr.chartdate) AS anchor_day,\n",
    "        result_name,\n",
    "        result_value AS bmi\n",
    "    FROM\n",
    "        mimiciv_hosp.omr omr\n",
    "    WHERE\n",
    "        omr.result_name = 'BMI (kg/m2)'\n",
    "\"\"\"\n",
    "\n",
    "bmi_q = query_to_df(cur, query)\n",
    "print(bmi_q.head(100).to_string())"
   ]
  },
  {
   "cell_type": "markdown",
   "metadata": {},
   "source": [
    "# Merging BMI and AGE in same table"
   ]
  },
  {
   "cell_type": "code",
   "execution_count": 54,
   "metadata": {},
   "outputs": [
    {
     "name": "stdout",
     "output_type": "stream",
     "text": [
      "    subject_id           admittime   hadm_id admit_year admit_month admit_day   age     bmi\n",
      "0     10000084 2160-11-21 01:56:00  23052089       2160          11        21  72.0    24.4\n",
      "1     10000248 2192-11-30 01:25:00  20600184       2192          11        30  34.0    25.5\n",
      "2     10000635 2136-06-19 14:24:00  26134563       2136           6        19  74.0    37.1\n",
      "3     10001401 2131-10-01 01:33:00  27060146       2131          10         1  89.0    26.2\n",
      "4     10001843 2131-11-09 16:05:00  21728396       2131          11         9  73.0    30.6\n",
      "5     10001919 2124-04-20 00:00:00  29897682       2124           4        20  59.0    27.4\n",
      "6     10002013 2156-11-01 14:53:00  25715803       2156          11         1  53.0    35.3\n",
      "7     10002131 2123-06-25 14:32:00  22798184       2123           6        25  87.0    24.8\n",
      "8     10002221 2200-09-29 17:28:00  21008195       2200           9        29  68.0    36.3\n",
      "9     10002430 2125-06-23 09:00:00  27218502       2125           6        23  86.0    23.4\n",
      "10    10002430 2125-09-28 17:47:00  24513842       2125           9        28  86.0    23.9\n",
      "11    10002528 2168-12-11 05:13:00  23193578       2168          12        11  26.0    20.2\n",
      "12    10003372 2185-07-06 00:00:00  22448043       2185           7         6  73.0    26.4\n",
      "13    10003412 2173-01-11 00:00:00  28884815       2173           1        11  44.0    27.9\n",
      "14    10003637 2145-11-23 07:15:00  22394931       2145          11        23  57.0    26.6\n",
      "15    10003757 2142-09-11 04:10:00  26829618       2142           9        11  91.0    18.3\n",
      "16    10004606 2159-03-14 20:02:00  23517634       2159           3        14  64.0    20.0\n",
      "17    10004606 2159-04-05 01:58:00  28731738       2159           4         5  64.0    19.5\n",
      "18    10004606 2159-09-14 02:34:00  28691361       2159           9        14  64.0    16.5\n",
      "19    10004764 2168-04-11 19:16:00  24817563       2168           4        11  70.0    23.8\n",
      "20    10005024 2138-03-29 01:17:00  25023471       2138           3        29  60.0    20.7\n",
      "21    10005123 2129-07-03 03:31:00  24274954       2129           7         3  54.0    29.8\n",
      "22    10005308 2178-04-17 04:37:00  20445854       2178           4        17  64.0    30.8\n",
      "23    10005817 2132-12-12 01:43:00  20626031       2132          12        12  66.0    30.5\n",
      "24    10005866 2146-06-06 00:50:00  26158160       2146           6         6  57.0    20.0\n",
      "25    10006029 2169-08-20 16:50:00  29107716       2169           8        20  72.0    30.5\n",
      "26    10006029 2169-08-20 16:50:00  29107716       2169           8        20  72.0    30.7\n",
      "27    10006029 2169-09-29 05:26:00  27104518       2169           9        29  72.0    28.7\n",
      "28    10006269 2124-06-27 15:04:00  27357430       2124           6        27  51.0    25.8\n",
      "29    10006431 2128-01-12 21:19:00  25589898       2128           1        12  66.0    30.0\n",
      "30    10006692 2165-05-12 16:43:00  29746536       2165           5        12  69.0    30.1\n",
      "31    10007134 2140-05-22 02:44:00  29356606       2140           5        22  51.0    19.8\n",
      "32    10007795 2136-09-22 20:51:00  22051341       2136           9        22  53.0    23.7\n",
      "33    10007818 2146-06-10 16:37:00  22987108       2146           6        10  69.0    25.9\n",
      "34    10008077 2189-02-27 00:00:00  22125576       2189           2        27  72.0    38.7\n",
      "35    10008245 2174-04-12 00:04:00  26674944       2174           4        12  47.0    20.6\n",
      "36    10008819 2169-08-23 20:25:00  26880688       2169           8        23  55.0    34.4\n",
      "37    10009129 2183-10-20 00:54:00  21618536       2183          10        20  50.0    24.1\n",
      "38    10009203 2201-08-12 19:36:00  23598550       2201           8        12  57.0    26.2\n",
      "39    10010058 2139-06-28 13:48:00  25917765       2139           6        28  80.0    22.2\n",
      "40    10010231 2117-11-08 20:21:00  25499227       2117          11         8  57.0    21.8\n",
      "41    10010231 2117-12-18 09:37:00  21586397       2117          12        18  57.0    29.7\n",
      "42    10010264 2159-03-10 15:28:00  26641707       2159           3        10  33.0    20.5\n",
      "43    10010393 2134-12-11 04:37:00  28846987       2134          12        11  46.0    22.8\n",
      "44    10010471 2155-05-08 17:05:00  21322534       2155           5         8  89.0    26.0\n",
      "45    10010718 2169-01-20 13:21:00  29947355       2169           1        20  87.0    25.4\n",
      "46    10010920 2150-10-05 06:45:00  24676144       2150          10         5  37.0    34.4\n",
      "47    10010993 2116-05-14 05:20:00  28481035       2116           5        14  41.0    27.1\n",
      "48    10011189 2188-03-21 20:43:00  23456305       2188           3        21  59.0    25.9\n",
      "49    10011189 2188-03-21 20:43:00  23456305       2188           3        21  59.0    27.5\n",
      "50    10011259 2161-05-05 16:10:00  24468341       2161           5         5  37.0    39.3\n",
      "51    10011259 2161-07-03 14:12:00  24004760       2161           7         3  37.0    36.6\n",
      "52    10011259 2161-07-03 15:04:00  29284526       2161           7         3  37.0    36.6\n",
      "53    10011259 2161-07-03 14:12:00  24004760       2161           7         3  37.0    37.3\n",
      "54    10011259 2161-07-03 15:04:00  29284526       2161           7         3  37.0    37.3\n",
      "55    10011279 2179-05-02 18:12:00  29504188       2179           5         2  40.0    27.3\n",
      "56    10011427 2135-12-23 19:49:00  28855838       2135          12        23  69.0    24.2\n",
      "57    10012768 2111-08-13 06:17:00  20255893       2111           8        13  58.0    23.2\n",
      "58    10012768 2111-11-25 11:39:00  27462906       2111          11        25  58.0    25.1\n",
      "59    10012853 2175-04-05 15:36:00  26369609       2175           4         5  91.0  4649.4\n",
      "60    10013310 2153-05-26 14:18:00  21243435       2153           5        26  70.0    29.1\n",
      "61    10013324 2123-10-29 01:10:00  25696131       2123          10        29  69.0    24.2\n",
      "62    10013600 2172-08-17 16:40:00  20207755       2172           8        17  91.0    20.5\n",
      "63    10013724 2180-07-11 02:34:00  28766875       2180           7        11  64.0    34.4\n",
      "64    10013747 2121-06-19 17:23:00  29646918       2121           6        19  56.0    27.2\n",
      "65    10013970 2163-06-18 16:38:00  26701822       2163           6        18  60.0    33.3\n",
      "66    10014449 2174-05-28 06:37:00  23164170       2174           5        28  79.0    37.6\n",
      "67    10014532 2189-12-18 12:58:00  21720538       2189          12        18  66.0    22.7\n",
      "68    10014651 2138-04-26 15:14:00  20051301       2138           4        26  67.0    38.0\n",
      "69    10014670 2187-05-09 01:12:00  24563254       2187           5         9  89.0    22.9\n",
      "70    10014790 2171-11-04 15:20:00  25010346       2171          11         4  30.0    22.2\n",
      "71    10014869 2164-06-25 18:57:00  28291417       2164           6        25  77.0    26.6\n",
      "72    10014991 2131-06-24 20:37:00  24216569       2131           6        24  77.0    24.6\n",
      "73    10015057 2151-04-15 14:06:00  23531645       2151           4        15  84.0    41.2\n",
      "74    10015785 2150-05-10 20:02:00  23058424       2150           5        10  91.0    27.8\n",
      "75    10015785 2150-12-08 00:15:00  23958054       2150          12         8  91.0    26.6\n",
      "76    10015931 2176-11-14 18:02:00  28157142       2176          11        14  87.0    21.7\n",
      "77    10016150 2142-05-10 15:05:00  29374560       2142           5        10  69.0    28.2\n",
      "78    10016353 2151-03-25 04:32:00  29694562       2151           3        25  77.0    29.3\n",
      "79    10017393 2179-07-20 16:59:00  21985481       2179           7        20  58.0    26.2\n",
      "80    10018328 2154-02-05 21:58:00  26706939       2154           2         5  83.0    23.3\n",
      "81    10019385 2180-02-15 20:28:00  20297618       2180           2        15  44.0    32.5\n",
      "82    10019385 2180-03-04 01:16:00  20611796       2180           3         4  44.0    14.8\n",
      "83    10020218 2177-05-06 20:00:00  22515625       2177           5         6  25.0    25.9\n",
      "84    10020728 2112-04-25 10:30:00  29092673       2112           4        25  39.0    26.6\n",
      "85    10021109 2157-04-17 11:45:00  20229444       2157           4        17  56.0    46.0\n",
      "86    10021118 2161-11-15 20:10:00  24490144       2161          11        15  62.0    35.2\n",
      "87    10021312 2113-08-16 00:32:00  25020332       2113           8        16  55.0    32.2\n",
      "88    10021312 2113-09-12 14:42:00  28829452       2113           9        12  55.0    30.9\n",
      "89    10021621 2169-03-12 05:19:00  29271862       2169           3        12  27.0    26.5\n",
      "90    10021818 2134-07-04 00:00:00  22799853       2134           7         4  82.0    28.7\n",
      "91    10022124 2167-10-30 06:13:00  21073050       2167          10        30  20.0    33.3\n",
      "92    10022373 2150-07-19 00:26:00  28740561       2150           7        19  60.0    25.6\n",
      "93    10022500 2140-11-21 18:34:00  28659510       2140          11        21  70.0    31.6\n",
      "94    10022880 2177-03-12 07:15:00  27708593       2177           3        12  66.0    29.3\n",
      "95    10023274 2155-01-09 01:44:00  25335412       2155           1         9  51.0    22.6\n",
      "96    10023328 2155-07-27 16:52:00  20884955       2155           7        27  81.0    19.1\n",
      "97    10023365 2172-01-13 08:33:00  28647140       2172           1        13  81.0    30.8\n",
      "98    10024170 2177-03-02 16:25:00  28956643       2177           3         2  54.0    22.7\n",
      "99    10024170 2177-03-02 16:25:00  28956643       2177           3         2  54.0    23.0\n"
     ]
    }
   ],
   "source": [
    "query = \"\"\"\n",
    "    SELECT query1.subject_id,\n",
    "           query1.admittime,\n",
    "           query1.hadm_id,\n",
    "           query1.admit_year,\n",
    "           query1.admit_month,\n",
    "           query1.admit_day,\n",
    "           query1.age,\n",
    "           query2.bmi\n",
    "    FROM (\n",
    "        SELECT DISTINCT\n",
    "            admis.subject_id,\n",
    "            admis.admittime,\n",
    "            admis.hadm_id,\n",
    "            EXTRACT(year FROM admis.admittime) AS admit_year,\n",
    "            EXTRACT(month FROM admis.admittime) AS admit_month,\n",
    "            EXTRACT(day FROM admis.admittime) AS admit_day,\n",
    "            pat.anchor_year,\n",
    "            pat.anchor_age,\n",
    "            DATE_PART('year', admis.admittime::DATE) - pat.anchor_year + pat.anchor_age AS age\n",
    "        FROM\n",
    "            mimiciv_hosp.admissions admis\n",
    "        INNER JOIN\n",
    "            mimiciv_hosp.patients pat ON admis.subject_id = pat.subject_id    \n",
    "                                    AND EXTRACT(year FROM admis.admittime) = pat.anchor_year\n",
    "    ) AS query1\n",
    "    INNER JOIN (\n",
    "        SELECT DISTINCT\n",
    "            omr.subject_id,\n",
    "            omr.chartdate,\n",
    "            EXTRACT(year FROM omr.chartdate) AS anchor_year,\n",
    "            EXTRACT(month FROM omr.chartdate) AS anchor_month,\n",
    "            EXTRACT(day FROM omr.chartdate) AS anchor_day,\n",
    "            omr.result_name,\n",
    "            omr.result_value AS bmi\n",
    "        FROM\n",
    "            mimiciv_hosp.omr omr\n",
    "        WHERE\n",
    "            omr.result_name = 'BMI (kg/m2)'\n",
    "    ) AS query2\n",
    "    ON query1.subject_id = query2.subject_id\n",
    "    AND query1.admit_year = query2.anchor_year\n",
    "    AND query1.admit_month = query2.anchor_month\n",
    "    AND query1.admit_day = query2.anchor_day\n",
    "\"\"\"\n",
    "\n",
    "merged_bmi_age = query_to_df(cur, query)\n",
    "print(merged_bmi_age.head(100).to_string())\n"
   ]
  },
  {
   "cell_type": "code",
   "execution_count": 55,
   "metadata": {},
   "outputs": [
    {
     "name": "stdout",
     "output_type": "stream",
     "text": [
      "Total rows: 43056\n"
     ]
    }
   ],
   "source": [
    "merged_rows = merged_bmi_age.shape[0]\n",
    "print(\"Total rows:\", merged_rows)  #43056\n",
    "\n",
    "merged_bmi_age.to_csv(\"merged_bmi_age.csv\")\n"
   ]
  },
  {
   "cell_type": "markdown",
   "metadata": {},
   "source": []
  },
  {
   "cell_type": "code",
   "execution_count": 52,
   "metadata": {},
   "outputs": [
    {
     "data": {
      "image/png": "[encoded data removed]",
      "text/plain": [
       "<Figure size 432x288 with 1 Axes>"
      ]
     },
     "metadata": {
      "needs_background": "light"
     },
     "output_type": "display_data"
    },
    {
     "data": {
      "image/png": "[encoded data removed]",
      "text/plain": [
       "<Figure size 432x288 with 1 Axes>"
      ]
     },
     "metadata": {
      "needs_background": "light"
     },
     "output_type": "display_data"
    }
   ],
   "source": [
    "import pandas as pd\n",
    "import matplotlib.pyplot as plt\n",
    "import seaborn as sns\n",
    "\n",
    "# Read the CSV file into a Pandas DataFrame\n",
    "data = pd.read_csv('merged_bmi_age.csv')\n",
    "\n",
    "# Extract the age and BMI columns\n",
    "age = data['age']\n",
    "bmi = data['bmi']\n",
    "\n",
    "# Define the maximum figure size (adjust as needed)\n",
    "max_fig_size = (16, 6)\n",
    "\n",
    "# Sample data points for the plot to handle large datasets\n",
    "sample_size = min(1000, len(data))  # Choose a suitable sample size (e.g., 1000)\n",
    "sample_size2 = min(15, len(data))  # Choose a suitable sample size (e.g., 1000)\n",
    "age_sample = age.sample(n=sample_size, random_state=42)\n",
    "bmi_sample = bmi.sample(n=sample_size2, random_state=42)\n",
    "\n",
    "# Create a figure for Age Distribution\n",
    "fig1, ax1 = plt.subplots()\n",
    "sns.histplot(age_sample, kde=True, ax=ax1, color='red')\n",
    "ax1.set_xlabel('Age')\n",
    "ax1.set_ylabel('Frequency')\n",
    "ax1.set_title('Age Distribution')\n",
    "\n",
    "# Create a figure for BMI Distribution\n",
    "fig2, ax2 = plt.subplots()\n",
    "sns.histplot(bmi_sample, kde=True, bins=50, ax=ax2, color='red')\n",
    "ax2.set_xlabel('BMI')\n",
    "ax2.set_ylabel('Frequency')\n",
    "ax2.set_title('BMI Distribution')\n",
    "\n",
    "plt.show()\n"
   ]
  },
  {
   "cell_type": "code",
   "execution_count": 57,
   "metadata": {},
   "outputs": [
    {
     "data": {
      "image/png": "[encoded data removed]",
      "text/plain": [
       "<Figure size 432x288 with 1 Axes>"
      ]
     },
     "metadata": {
      "needs_background": "light"
     },
     "output_type": "display_data"
    }
   ],
   "source": [
    "import pandas as pd\n",
    "import matplotlib.pyplot as plt\n",
    "\n",
    "# Sample DataFrame with subjects' BMI and groups\n",
    "# data = pd.DataFrame({\n",
    "#     'SubjectID': [1, 2, 3, 4, 5, 6, 7, 8, 9, 10],\n",
    "#     'AdmissionID': [101, 102, 103, 104, 105, 106, 107, 108, 109, 110],\n",
    "#     'BMI': [28.5, 35.2, 22.8, 40.1, 18.9, 34.7, 23.5, 28.0, 27.6, 31.3],\n",
    "#     'Group': ['A', 'B', 'B', 'A', 'C', 'C', 'C', 'B', 'A', 'B']\n",
    "# })\n",
    "\n",
    "# Read the CSV file into a Pandas DataFrame\n",
    "data = pd.read_csv('merged_bmi_age.csv')\n",
    "\n",
    "# Function to categorize BMI into groups\n",
    "def categorize_bmi(bmi):\n",
    "    if bmi >= 40:\n",
    "        return 'Extreme Obesity'\n",
    "    elif 30 <= bmi < 40:\n",
    "        return 'Obesity'\n",
    "    elif 18.5 <= bmi < 30:\n",
    "        return 'Normal'\n",
    "    elif 25 <= bmi < 18.5:\n",
    "        return 'Overweight'\n",
    "    elif 16 <= bmi < 25:\n",
    "        return 'Weak'\n",
    "    else:\n",
    "        return 'Extremely Weak'\n",
    "\n",
    "# Categorize BMI values and add a new column 'BMI_Category' to the DataFrame\n",
    "data['BMI_Category'] = data['bmi'].apply(categorize_bmi)\n",
    "\n",
    "# Count the occurrences of each BMI category\n",
    "bmi_counts = data['BMI_Category'].value_counts()\n",
    "\n",
    "# Create a horizontal bar chart with custom colors\n",
    "fig, ax = plt.subplots()\n",
    "custom_colors = ['#FF5733', '#FFC300', '#9ACD32', '#3498DB', '#9932CC', '#C0C0C0']\n",
    "\n",
    "ax.barh(bmi_counts.index, bmi_counts, color=custom_colors)\n",
    "\n",
    "# Add labels to the bars\n",
    "for i, v in enumerate(bmi_counts):\n",
    "    ax.text(v + 0.5, i, str(v), va='center')\n",
    "\n",
    "ax.set_xlabel('Count')\n",
    "ax.set_title('BMI Categories Distribution')\n",
    "\n",
    "plt.tight_layout()\n",
    "\n",
    "# Save the plot to a file (e.g., PNG or PDF)\n",
    "plt.savefig('bmi_bar_chart.png', dpi=300, bbox_inches='tight')\n",
    "plt.show()"
   ]
  },
  {
   "cell_type": "code",
   "execution_count": 38,
   "metadata": {},
   "outputs": [
    {
     "data": {
      "image/png": "[encoded data removed]",
      "text/plain": [
       "<Figure size 432x288 with 1 Axes>"
      ]
     },
     "metadata": {
      "needs_background": "light"
     },
     "output_type": "display_data"
    },
    {
     "data": {
      "image/png": "[encoded data removed]",
      "text/plain": [
       "<Figure size 432x288 with 1 Axes>"
      ]
     },
     "metadata": {
      "needs_background": "light"
     },
     "output_type": "display_data"
    },
    {
     "data": {
      "image/png": "[encoded data removed]",
      "text/plain": [
       "<Figure size 432x288 with 1 Axes>"
      ]
     },
     "metadata": {
      "needs_background": "light"
     },
     "output_type": "display_data"
    },
    {
     "data": {
      "image/png": "[encoded data removed]",
      "text/plain": [
       "<Figure size 432x288 with 1 Axes>"
      ]
     },
     "metadata": {
      "needs_background": "light"
     },
     "output_type": "display_data"
    },
    {
     "data": {
      "image/png": "[encoded data removed]",
      "text/plain": [
       "<Figure size 432x288 with 1 Axes>"
      ]
     },
     "metadata": {
      "needs_background": "light"
     },
     "output_type": "display_data"
    },
    {
     "data": {
      "image/png": "[encoded data removed]",
      "text/plain": [
       "<Figure size 432x288 with 1 Axes>"
      ]
     },
     "metadata": {
      "needs_background": "light"
     },
     "output_type": "display_data"
    }
   ],
   "source": [
    "df = pd.read_csv('merged_bmi_age.csv')\n",
    "import pandas as pd\n",
    "import matplotlib.pyplot as plt\n",
    "import seaborn as sns\n",
    "\n",
    "\n",
    "\n",
    "# Histogram for Age\n",
    "plt.figure()\n",
    "plt.hist(df['age'], bins=30, color='skyblue', edgecolor='black')\n",
    "plt.title('Age distribution')\n",
    "plt.xlabel('Age')\n",
    "plt.ylabel('Frequency')\n",
    "plt.show()\n",
    "\n",
    "\n",
    "# Boxplot for Age\n",
    "plt.figure()\n",
    "sns.boxplot(data=df, y='age', color='skyblue')\n",
    "plt.title('Age Boxplot')\n",
    "plt.show()\n",
    "\n",
    "# Boxplot for BMI\n",
    "plt.figure()\n",
    "sns.boxplot(data=df, y='bmi', color='skyblue')\n",
    "plt.title('BMI Boxplot')\n",
    "plt.show()\n",
    "\n",
    "# Scatterplot of Age vs BMI\n",
    "plt.figure()\n",
    "sns.scatterplot(data=df, x='age', y='bmi')\n",
    "plt.title('Scatterplot of Age vs BMI')\n",
    "plt.xlabel('Age')\n",
    "plt.ylabel('BMI')\n",
    "plt.show()\n",
    "\n",
    "# Violin Plot for Age\n",
    "plt.figure()\n",
    "sns.violinplot(data=df, y='age', color='skyblue')\n",
    "plt.title('Age Violinplot')\n",
    "plt.show()\n",
    "\n",
    "# Violin Plot for BMI\n",
    "plt.figure()\n",
    "sns.violinplot(data=df, y='bmi', color='skyblue')\n",
    "plt.title('BMI Violinplot')\n",
    "plt.show()\n"
   ]
  },
  {
   "attachments": {},
   "cell_type": "markdown",
   "metadata": {},
   "source": [
    "# End connection"
   ]
  },
  {
   "cell_type": "code",
   "execution_count": 42,
   "metadata": {},
   "outputs": [],
   "source": [
    "# Close the cursor and connection\n",
    "cur.close()\n",
    "connection.close()"
   ]
  },
  {
   "attachments": {},
   "cell_type": "markdown",
   "metadata": {},
   "source": [
    "# Loading files"
   ]
  },
  {
   "cell_type": "code",
   "execution_count": 13,
   "metadata": {},
   "outputs": [],
   "source": [
    "gxray_dicom = pd.read_csv(PATH1+PATH2+\"gxray_dicom.csv\")"
   ]
  },
  {
   "attachments": {},
   "cell_type": "markdown",
   "metadata": {},
   "source": [
    "## EDA"
   ]
  },
  {
   "cell_type": "code",
   "execution_count": null,
   "metadata": {},
   "outputs": [
    {
     "name": "stdout",
     "output_type": "stream",
     "text": [
      "Number of patients:  40305\n",
      "   Unnamed: 0                                      dicom_id  subject_id  study_id PerformedProcedureStepDescription ViewPosition  Rows  Columns   StudyDate   StudyTime ProcedureCodeSequence_CodeMeaning ViewCodeSequence_CodeMeaning PatientOrientationCodeSequence_CodeMeaning   time_formatted             time  time_diff_seconds time_diff        StudyDateTime        poe_id  poe_seq   hadm_id            ordertime order_type order_subtype transaction_type discontinue_of_poe_id discontinued_by_poe_id order_provider_id order_status\n",
      "0           0  02aa804e-bde0afdd-112c0b34-7bc16630-4e384014    10000032  50414267                CHEST (PA AND LAT)           PA  3056     2544  2180-05-06  213014.531                CHEST (PA AND LAT)             postero-anterior                                      Erect  0 days 21:30:14  0 days 20:53:47             2187.0  00:36:27  2180-05-06 21:30:14   10000032-14       14  22595853  2180-05-06 20:53:47  Radiology  General Xray              New                   NaN                    NaN            P9705S     Inactive\n",
      "1           2  174413ec-4ec4c1f7-34ea26b7-c5f994f8-79ef1962    10000032  50414267                CHEST (PA AND LAT)      LATERAL  3056     2544  2180-05-06  213014.531                CHEST (PA AND LAT)                      lateral                                      Erect  0 days 21:30:14  0 days 20:53:47             2187.0  00:36:27  2180-05-06 21:30:14   10000032-14       14  22595853  2180-05-06 20:53:47  Radiology  General Xray              New                   NaN                    NaN            P9705S     Inactive\n",
      "2           4  2a2277a9-b0ded155-c0de8eb9-c124d10e-82c5caab    10000032  53189527                CHEST (PA AND LAT)           PA  3056     2544  2180-06-26  165500.312                CHEST (PA AND LAT)             postero-anterior                                      Erect  0 days 16:55:00  0 days 17:06:07             -667.0  23:48:53  2180-06-26 16:55:00   10000032-66       66  22841357  2180-06-26 17:06:07  Radiology  General Xray              New                   NaN                    NaN            P699GL     Inactive\n",
      "3           6  e084de3b-be89b11e-20fe3f9f-9c8d8dfe-4cfd202c    10000032  53189527                CHEST (PA AND LAT)      LATERAL  3056     2544  2180-06-26  165500.312                CHEST (PA AND LAT)                      lateral                                      Erect  0 days 16:55:00  0 days 17:06:07             -667.0  23:48:53  2180-06-26 16:55:00   10000032-66       66  22841357  2180-06-26 17:06:07  Radiology  General Xray              New                   NaN                    NaN            P699GL     Inactive\n",
      "4           8  68b5c4b1-227d0485-9cc38c3f-7b84ab51-4b472714    10000032  53911762               CHEST (PORTABLE AP)           AP  2705     2539  2180-07-23   80556.875               CHEST (PORTABLE AP)             antero-posterior                                        NaN  0 days 08:05:56  0 days 06:11:22             6874.0  01:54:34  2180-07-23 08:05:56  10000032-118      118  29079034  2180-07-23 06:11:22  Radiology  General Xray              New                   NaN                    NaN            P921PD     Inactive\n"
     ]
    }
   ],
   "source": [
    "#number of patients\n",
    "\n",
    "print(\"Number of patients: \", gxray_dicom['subject_id'].nunique())  #40305 unique patients\n",
    "print(gxray_dicom.head().to_string())"
   ]
  },
  {
   "attachments": {},
   "cell_type": "markdown",
   "metadata": {},
   "source": [
    "# Number of images per patient"
   ]
  },
  {
   "cell_type": "code",
   "execution_count": 33,
   "metadata": {},
   "outputs": [],
   "source": [
    "#counting images per subject\n",
    "\n",
    "# grouped_gxray_dicom = gxray_dicom.groupby('subject_id').size().reset_index(name='count')\n",
    "# print(grouped_gxray_dicom)\n",
    "\n",
    "# grouped_gxray_dicom.plot(x='subject_id', y='count', kind='bar', ascending=False)\n",
    "# plt.show()\n"
   ]
  },
  {
   "cell_type": "code",
   "execution_count": null,
   "metadata": {},
   "outputs": [
    {
     "data": {
      "text/plain": [
       "<AxesSubplot:xlabel='subject_id'>"
      ]
     },
     "execution_count": 19,
     "metadata": {},
     "output_type": "execute_result"
    },
    {
     "data": {
      "image/png": "[encoded data removed]",
      "text/plain": [
       "<Figure size 432x288 with 1 Axes>"
      ]
     },
     "metadata": {
      "needs_background": "light"
     },
     "output_type": "display_data"
    }
   ],
   "source": [
    "#number of study_id/images sessions per subject\n",
    "gxray_dicom.groupby('subject_id')['study_id'].nunique().sort_values(ascending=False).head(50).plot(kind='bar')"
   ]
  },
  {
   "cell_type": "code",
   "execution_count": null,
   "metadata": {},
   "outputs": [
    {
     "data": {
      "text/plain": [
       "subject_id\n",
       "16454913    129\n",
       "12043836    114\n",
       "18295542    112\n",
       "19674244     94\n",
       "17277688     86\n",
       "11717909     83\n",
       "15689523     80\n",
       "10699336     80\n",
       "19398915     76\n",
       "14150037     76\n",
       "16662316     72\n",
       "18995174     69\n",
       "17135687     67\n",
       "14873669     67\n",
       "19509694     67\n",
       "10670818     65\n",
       "13192224     64\n",
       "15816613     64\n",
       "17967970     63\n",
       "15149227     63\n",
       "12176298     62\n",
       "10258162     62\n",
       "15099669     61\n",
       "16337817     61\n",
       "11970980     61\n",
       "17675016     61\n",
       "11984647     60\n",
       "17585185     60\n",
       "13697731     59\n",
       "15032392     59\n",
       "15131736     59\n",
       "19607507     58\n",
       "13299285     58\n",
       "13224377     57\n",
       "17653729     57\n",
       "16285590     57\n",
       "11522912     56\n",
       "10354450     56\n",
       "11607177     56\n",
       "17172316     55\n",
       "11948471     55\n",
       "14494263     55\n",
       "11761571     55\n",
       "19133405     55\n",
       "19735459     54\n",
       "19131048     54\n",
       "14997223     54\n",
       "15209552     54\n",
       "11300581     54\n",
       "11532890     53\n",
       "Name: study_id, dtype: int64"
      ]
     },
     "execution_count": 20,
     "metadata": {},
     "output_type": "execute_result"
    }
   ],
   "source": [
    "gxray_dicom.groupby('subject_id')['study_id'].nunique().sort_values(ascending=False).head(50)\n"
   ]
  },
  {
   "attachments": {},
   "cell_type": "markdown",
   "metadata": {},
   "source": [
    "# Merging gxray_dicom with discharge notes\n",
    "\n",
    "with subject id and admission id"
   ]
  },
  {
   "cell_type": "code",
   "execution_count": null,
   "metadata": {},
   "outputs": [
    {
     "data": {
      "text/plain": [
       "(215741, 29)"
      ]
     },
     "execution_count": 10,
     "metadata": {},
     "output_type": "execute_result"
    }
   ],
   "source": [
    "discharge_df = pd.read_csv(PATH1+\"discharge.csv\")\n",
    "gxray_dicom.shape"
   ]
  },
  {
   "cell_type": "code",
   "execution_count": null,
   "metadata": {},
   "outputs": [
    {
     "data": {
      "text/plain": [
       "35152"
      ]
     },
     "execution_count": 22,
     "metadata": {},
     "output_type": "execute_result"
    }
   ],
   "source": [
    "#merging all columns considering subject_id and hadm_id\n",
    "merged_df = pd.merge(gxray_dicom, discharge_df, on=['subject_id', 'hadm_id'], how='inner')\n",
    "merged_df.shape  #(196068, 35) images\n",
    "merged_df['subject_id'].nunique()  #35152 patient"
   ]
  },
  {
   "cell_type": "code",
   "execution_count": null,
   "metadata": {},
   "outputs": [],
   "source": [
    "#to drop\n",
    "merged_df = merged_df.drop(['discontinue_of_poe_id', 'discontinued_by_poe_id',\n",
    "       'order_provider_id', 'order_status'],axis=1)  #from 35 to 31 columns"
   ]
  },
  {
   "cell_type": "code",
   "execution_count": 32,
   "metadata": {},
   "outputs": [],
   "source": [
    "# merged_df.head()"
   ]
  },
  {
   "cell_type": "code",
   "execution_count": null,
   "metadata": {},
   "outputs": [],
   "source": [
    "PATH3 = \"/merged/\"\n",
    "merged_df.to_csv(PATH1+PATH3+\"gxray_dicom_discharge.csv\")"
   ]
  },
  {
   "cell_type": "code",
   "execution_count": 48,
   "metadata": {},
   "outputs": [],
   "source": [
    "merged_df = pd.read_csv(PATH1+PATH3+\"gxray_dicom_discharge.csv\")"
   ]
  },
  {
   "cell_type": "markdown",
   "metadata": {},
   "source": [
    "# MERGING gxray_dicom_discharge with bmi_age df"
   ]
  },
  {
   "cell_type": "code",
   "execution_count": 61,
   "metadata": {},
   "outputs": [
    {
     "data": {
      "text/plain": [
       "(196068, 32)"
      ]
     },
     "execution_count": 61,
     "metadata": {},
     "output_type": "execute_result"
    }
   ],
   "source": [
    "merged_df.shape"
   ]
  },
  {
   "cell_type": "code",
   "execution_count": 59,
   "metadata": {},
   "outputs": [
    {
     "data": {
      "text/plain": [
       "(17744, 38)"
      ]
     },
     "execution_count": 59,
     "metadata": {},
     "output_type": "execute_result"
    }
   ],
   "source": [
    "#adding bmi and age info\n",
    "bmi_age_xray_dicom_discharge_df = pd.merge(merged_df, merged_bmi_age, on=['subject_id', 'hadm_id'], how='inner')\n",
    "bmi_age_xray_dicom_discharge_df.shape  #(17744, 38)"
   ]
  },
  {
   "cell_type": "code",
   "execution_count": 65,
   "metadata": {},
   "outputs": [
    {
     "data": {
      "text/plain": [
       "(88971, 39)"
      ]
     },
     "execution_count": 65,
     "metadata": {},
     "output_type": "execute_result"
    }
   ],
   "source": [
    "#adding age info\n",
    "age_xray_dicom_discharge_df = pd.merge(merged_df, age_q, on=['subject_id', 'hadm_id'], how='inner')\n",
    "age_xray_dicom_discharge_df.shape  #88971\n",
    "\n"
   ]
  },
  {
   "cell_type": "code",
   "execution_count": 68,
   "metadata": {},
   "outputs": [
    {
     "data": {
      "text/plain": [
       "(88971, 39)"
      ]
     },
     "execution_count": 68,
     "metadata": {},
     "output_type": "execute_result"
    }
   ],
   "source": [
    "age_xray_dicom_discharge_df = age_xray_dicom_discharge_df.drop_duplicates()\n",
    "age_xray_dicom_discharge_df.shape  #(88971, 39)"
   ]
  },
  {
   "cell_type": "code",
   "execution_count": 69,
   "metadata": {},
   "outputs": [],
   "source": [
    "age_xray_dicom_discharge_df.to_csv(PATH1+\"age_xray_dicom_discharge_df.csv\")"
   ]
  },
  {
   "cell_type": "code",
   "execution_count": null,
   "metadata": {},
   "outputs": [],
   "source": []
  }
 ],
 "metadata": {
  "kernelspec": {
   "display_name": "Python 3",
   "language": "python",
   "name": "python3"
  },
  "language_info": {
   "codemirror_mode": {
    "name": "ipython",
    "version": 3
   },
   "file_extension": ".py",
   "mimetype": "text/x-python",
   "name": "python",
   "nbconvert_exporter": "python",
   "pygments_lexer": "ipython3",
   "version": "3.9.6"
  },
  "orig_nbformat": 4
 },
 "nbformat": 4,
 "nbformat_minor": 2
}
