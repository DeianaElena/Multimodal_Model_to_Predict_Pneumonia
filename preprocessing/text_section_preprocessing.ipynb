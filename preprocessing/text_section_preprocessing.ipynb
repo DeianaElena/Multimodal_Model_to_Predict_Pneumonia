{
 "cells": [
  {
   "cell_type": "code",
   "execution_count": 3,
   "metadata": {},
   "outputs": [],
   "source": [
    "#Libraries\n",
    "import pandas as pd\n",
    "import numpy as np\n",
    "import re\n",
    "import matplotlib.pyplot as plt\n",
    "import nltk\n",
    "import random\n",
    "import itertools\n",
    "from collections import defaultdict, Counter\n",
    "import os\n",
    "import psycopg2\n",
    "import textwrap\n",
    "\n",
    "\n",
    "from sklearn.preprocessing import LabelEncoder\n",
    "from sklearn.model_selection import train_test_split, StratifiedKFold\n",
    "from sklearn.feature_extraction.text import CountVectorizer, TfidfVectorizer\n",
    "from itertools import combinations\n",
    "from nltk.tokenize import RegexpTokenizer\n",
    "from nltk.corpus import stopwords\n",
    "from nltk.stem.porter import PorterStemmer\n",
    "\n",
    "\n",
    "#setting no max column width\n",
    "pd.set_option('display.max_colwidth', None)\n",
    "#pd.reset_option('display.max_colwidth')  #uncomment this if you want to deactivate it\n",
    "\n",
    "#my functions\n",
    "from text_utils import normalize_df_column, extract_recurrent_note_categories, filter_text,from_code_add_label_col"
   ]
  },
  {
   "attachments": {},
   "cell_type": "markdown",
   "metadata": {},
   "source": [
    "# Documents selection"
   ]
  },
  {
   "cell_type": "code",
   "execution_count": 3,
   "metadata": {},
   "outputs": [],
   "source": [
    "# discharge_df = pd.read_csv(\"lab140discharge.csv\")\n",
    "# first_3_rows_df = pd.read_csv(\"first_3_rows.csv\")"
   ]
  },
  {
   "cell_type": "code",
   "execution_count": 5,
   "metadata": {},
   "outputs": [],
   "source": [
    "# discharge_df.drop(['label','target'],axis=1)\n",
    "# first_3_rows_df.drop(['label','target'],axis=1)\n",
    "# discharge_df = discharge_df.to_csv(\"lab140discharge0.csv\")\n",
    "# first_3_rows_df = first_3_rows_df.to_csv(\"first_3_rows0.csv\")"
   ]
  },
  {
   "cell_type": "code",
   "execution_count": 2,
   "metadata": {},
   "outputs": [],
   "source": [
    "PATH1 = \"../../data/db/\"\n",
    "discharge_full_df = pd.read_csv(PATH1+\"discharge.csv\")"
   ]
  },
  {
   "cell_type": "code",
   "execution_count": 6,
   "metadata": {},
   "outputs": [],
   "source": [
    "PATH1 = \"../../data/db/mimic_note/\"\n",
    "df_filt = pd.read_csv(PATH1+\"disharge_full_only_filtered_text.csv\")"
   ]
  },
  {
   "cell_type": "code",
   "execution_count": 4,
   "metadata": {},
   "outputs": [],
   "source": [
    "# # Create a new DataFrame with the first three rows\n",
    "# df_first_3_rows = discharge_df.head(3)\n",
    "# df_first_3_rows.to_csv('first_3_rows.csv', index=False) "
   ]
  },
  {
   "attachments": {},
   "cell_type": "markdown",
   "metadata": {},
   "source": [
    "# Extracting categories"
   ]
  },
  {
   "attachments": {},
   "cell_type": "markdown",
   "metadata": {},
   "source": [
    "## Categories in full discharge notes of sentences repeated >10000"
   ]
  },
  {
   "cell_type": "code",
   "execution_count": 9,
   "metadata": {},
   "outputs": [
    {
     "name": "stdout",
     "output_type": "stream",
     "text": [
      "MEDICINE\n",
      "Adverse Drug Reactions\n",
      "Chief Complaint\n",
      "Past Medical History\n",
      "Social History\n",
      "Physical Exam\n",
      "Pertinent Results\n",
      "Brief Hospital Course\n",
      "Discharge Medications\n",
      "Discharge Disposition\n",
      "Home\n",
      "Discharge Diagnosis\n",
      "Discharge Condition\n",
      "Discharge Instructions\n",
      "Followup Instructions\n",
      "MICRO\n",
      "FINAL REPORT ___\n",
      "IMAGING\n",
      "ADMISSION PHYSICAL EXAM\n",
      "DISCHARGE PHYSICAL EXAM\n",
      "ADMISSION LABS\n",
      "Plt ___\n",
      "STUDIES\n",
      "DISCHARGE LABS\n",
      "TRANSITIONAL ISSUES\n",
      "Primary\n",
      "Secondary\n",
      "MICROBIOLOGY\n",
      "CXR ___\n",
      "CHRONIC ISSUES\n",
      "Outpatient Lab Work\n",
      "Facility\n",
      "PRIMARY DIAGNOSIS\n",
      "No\n",
      "NEG\n",
      "ACTIVE ISSUES\n",
      "DISCHARGE EXAM\n",
      "ORTHOPAEDICS\n",
      "MEDICATIONS\n",
      "Clear Sp ___\n",
      "ADMISSION\n",
      "DISCHARGE\n",
      "NEGATIVE\n",
      "HOLD\n",
      "PND\n",
      "Imaging\n",
      "RANDOM\n",
      "Clear SP ___\n",
      "NAD\n",
      "SURGERY\n",
      "RA\n",
      "Discharge Physical Exam\n",
      "Extended Care\n",
      "Transitional Issues\n",
      "Hypertension\n",
      "Admission Labs\n",
      "Hyperlipidemia\n",
      "ADMISSION EXAM\n",
      "IMPRESSION\n",
      "HTN\n",
      "Primary Diagnosis\n",
      "NEUROSURGERY\n",
      "NC\n",
      "Cranial Nerves\n",
      "Penicillins\n",
      "CTAB\n",
      "ACUTE ISSUES\n",
      "NEUROLOGY\n",
      "Negative\n",
      "HLD\n",
      "Physical Therapy\n",
      "Discharge Labs\n",
      "CARDIOTHORACIC\n",
      "Expired\n",
      "Sliding Scale using HUM Insulin\n",
      "Hypothyroidism\n",
      "Depression\n",
      "GERD\n",
      "ND\n",
      "Denies\n"
     ]
    }
   ],
   "source": [
    "recurrent_sentences = extract_recurrent_note_categories(discharge_full_df)\n",
    "\n",
    "# print each sentence on a new line\n",
    "for sentence in recurrent_sentences:\n",
    "    print(sentence)"
   ]
  },
  {
   "cell_type": "code",
   "execution_count": 10,
   "metadata": {},
   "outputs": [
    {
     "name": "stdout",
     "output_type": "stream",
     "text": [
      "80\n"
     ]
    }
   ],
   "source": [
    "print(len(recurrent_sentences))\n",
    "#with repetition of sentences >30 we got 5848 in min 11\n",
    "#with repetition of sentences >100 we got 2282 in min 9\n",
    "#with repetition of sentences >1000 we got 310 in min 11.25 \n",
    "#with repetition of sentences >10000 we got 37 in min 9  \n",
    "#with repetition of sentences >10000 we got 112 in min 8.55  (including ___, excluding len<=1, 1st capital letter) \n",
    "#with repetition of sentences >10000 we got 100  in min 13.31  (including ___, excluding len<=1, 1st capital letter, excluding other words) \n",
    "#with repetition of sentences >10000 we got 80  in min 12  (changed of function to include again 1st letter capitalized and after normalizing the text, without putting everything in lower letters)"
   ]
  },
  {
   "attachments": {},
   "cell_type": "markdown",
   "metadata": {},
   "source": [
    "### Categories in lab140 >30\n",
    "Adverse Drug Reactions\n",
    "Chief Complaint\n",
    "Past Medical History\n",
    "Social History\n",
    "Physical Exam\n",
    "Pertinent Results\n",
    "Brief Hospital Course\n",
    "Discharge Medications\n",
    "Discharge Disposition\n",
    "Home\n",
    "Discharge Diagnosis\n",
    "Discharge Condition\n",
    "Discharge Instructions\n",
    "Followup Instructions\n",
    "Facility\n",
    "None"
   ]
  },
  {
   "attachments": {},
   "cell_type": "markdown",
   "metadata": {},
   "source": [
    "### This is the 37 list for recurrent (10000) sentences\n",
    "\n",
    "Adverse Drug Reactions\n",
    "Chief Complaint\n",
    "Past Medical History\n",
    "Social History\n",
    "Physical Exam\n",
    "Pertinent Results\n",
    "Brief Hospital Course\n",
    "Discharge Medications\n",
    "Discharge Disposition\n",
    "Home\n",
    "Discharge Diagnosis\n",
    "Discharge Condition\n",
    "Discharge Instructions\n",
    "Followup Instructions\n",
    "Primary\n",
    "Secondary\n",
    "Outpatient Lab Work\n",
    "Facility\n",
    "None\n",
    "Imaging\n",
    "Discharge Physical Exam\n",
    "Extended Care\n",
    "Transitional Issues\n",
    "Hypertension\n",
    "Admission Labs\n",
    "Hyperlipidemia\n",
    "Primary Diagnosis\n",
    "Cranial Nerves\n",
    "Penicillins\n",
    "Negative\n",
    "Physical Therapy\n",
    "Discharge Labs\n",
    "Expired\n",
    "Sliding Scale using HUM Insulin\n",
    "Hypothyroidism\n",
    "Depression\n",
    "Denies"
   ]
  },
  {
   "attachments": {},
   "cell_type": "markdown",
   "metadata": {},
   "source": [
    "### This is the 80 list for recurrent (10000) sentences:\n",
    "\n",
    "MEDICINE\n",
    "Adverse Drug Reactions\n",
    "Chief Complaint\n",
    "Past Medical History\n",
    "Social History\n",
    "Physical Exam\n",
    "Pertinent Results\n",
    "Brief Hospital Course\n",
    "Discharge Medications\n",
    "Discharge Disposition\n",
    "Home\n",
    "Discharge Diagnosis\n",
    "Discharge Condition\n",
    "Discharge Instructions\n",
    "Followup Instructions\n",
    "MICRO\n",
    "FINAL REPORT ___\n",
    "IMAGING\n",
    "ADMISSION PHYSICAL EXAM\n",
    "DISCHARGE PHYSICAL EXAM\n",
    "ADMISSION LABS\n",
    "Plt ___\n",
    "STUDIES\n",
    "DISCHARGE LABS\n",
    "TRANSITIONAL ISSUES\n",
    "Primary\n",
    "Secondary\n",
    "MICROBIOLOGY\n",
    "CXR ___\n",
    "CHRONIC ISSUES\n",
    "Outpatient Lab Work\n",
    "Facility\n",
    "PRIMARY DIAGNOSIS\n",
    "No\n",
    "NEG\n",
    "ACTIVE ISSUES\n",
    "DISCHARGE EXAM\n",
    "ORTHOPAEDICS\n",
    "MEDICATIONS\n",
    "Clear Sp ___\n",
    "ADMISSION\n",
    "DISCHARGE\n",
    "NEGATIVE\n",
    "HOLD\n",
    "PND\n",
    "Imaging\n",
    "RANDOM\n",
    "Clear SP ___\n",
    "NAD\n",
    "SURGERY\n",
    "RA\n",
    "Discharge Physical Exam\n",
    "Extended Care\n",
    "Transitional Issues\n",
    "Hypertension\n",
    "Admission Labs\n",
    "Hyperlipidemia\n",
    "ADMISSION EXAM\n",
    "IMPRESSION\n",
    "HTN\n",
    "Primary Diagnosis\n",
    "NEUROSURGERY\n",
    "NC\n",
    "Cranial Nerves\n",
    "Penicillins\n",
    "CTAB\n",
    "ACUTE ISSUES\n",
    "NEUROLOGY\n",
    "Negative\n",
    "HLD\n",
    "Physical Therapy\n",
    "Discharge Labs\n",
    "CARDIOTHORACIC\n",
    "Expired\n",
    "Sliding Scale using HUM Insulin\n",
    "Hypothyroidism\n",
    "Depression\n",
    "GERD\n",
    "ND\n",
    "Denies"
   ]
  },
  {
   "attachments": {},
   "cell_type": "markdown",
   "metadata": {},
   "source": [
    "### This is my selected list based on human judgement:\n",
    "\n",
    "MEDICINE\n",
    "Adverse Drug Reactions\n",
    "Chief Complaint\n",
    "Past Medical History\n",
    "Social History\n",
    "Physical Exam\n",
    "Pertinent Results\n",
    "ADMISSION PHYSICAL EXAM\n",
    "ADMISSION LABS\n",
    "CHRONIC ISSUES\n",
    "ADMISSION\n",
    "ADMISSION EXAM\n",
    "Admission Labs\n",
    "Transitional Issues\n",
    "\n",
    "While the categories we do not want, becuase they might influence the classification are:\n",
    "\n",
    "Discharge Medications\n",
    "Discharge Disposition\n",
    "Discharge Diagnosis\n",
    "Discharge Condition\n",
    "Discharge Instructions\n",
    "Followup Instructions\n",
    "FINAL REPORT ___\n",
    "IMAGING\n",
    "DISCHARGE PHYSICAL EXAM\n",
    "DISCHARGE LABS\n",
    "TRANSITIONAL ISSUES\n",
    "MEDICATIONS\n",
    "STUDIES\n",
    "CXR ___\n",
    "PRIMARY DIAGNOSIS\n",
    "DISCHARGE EXAM\n",
    "DISCHARGE\n",
    "Imaging\n",
    "Discharge Physical Exam\n",
    "Extended Care\n",
    "IMPRESSION\n",
    "Primary Diagnosis\n",
    "Discharge Labs\n",
    "ACUTE/ACTIVE ISSUES:\n",
    "ACTIVE ISSUES\n",
    "ACUTE ISSUES\n",
    "Brief Hospital Course\n",
    "MICROBIOLOGY"
   ]
  },
  {
   "cell_type": "code",
   "execution_count": 3,
   "metadata": {},
   "outputs": [
    {
     "name": "stdout",
     "output_type": "stream",
     "text": [
      "Len accepted_list:  15\n",
      "Len rejected_list:  30\n"
     ]
    }
   ],
   "source": [
    "#list of recurrent words/sentences that represent main categories of discharge notes\n",
    "\n",
    "accepted_list = [\n",
    "    \"Sex\",           #adding this to make sur it includes this info\n",
    "    \"MEDICINE\",\n",
    "    \"Adverse Drug Reactions\",\n",
    "    \"Chief Complaint\",\n",
    "    \"Past Medical History\",\n",
    "    \"Social History\",\n",
    "    \"Physical Exam\",\n",
    "    \"Pertinent Results\",\n",
    "    \"ADMISSION PHYSICAL EXAM\",\n",
    "    \"ADMISSION LABS\",\n",
    "    \"CHRONIC ISSUES\",\n",
    "    \"ADMISSION\",\n",
    "    \"ADMISSION EXAM\",\n",
    "    \"Admission Labs\",\n",
    "    \"Transitional Issues\"\n",
    "]\n",
    "\n",
    "\n",
    "rejected_list = [\n",
    "    \"Discharge Medications\",\n",
    "    \"Discharge Disposition\",\n",
    "    \"Discharge Diagnosis\",\n",
    "    \"Discharge Condition\",\n",
    "    \"Discharge Instructions\",\n",
    "    \"Followup Instructions\",\n",
    "    \"FINAL REPORT ___\",\n",
    "    \"IMAGING\",\n",
    "    \"DISCHARGE PHYSICAL EXAM\",\n",
    "    \"DISCHARGE LABS\",\n",
    "    \"TRANSITIONAL ISSUES\",\n",
    "    \"MEDICATIONS\",\n",
    "    \"STUDIES\",\n",
    "    \"CXR ___\",\n",
    "    \"PRIMARY DIAGNOSIS\",\n",
    "    \"DISCHARGE EXAM\",\n",
    "    \"DISCHARGE\",\n",
    "    \"Imaging\",\n",
    "    \"Discharge Physical Exam\",\n",
    "    \"Extended Care\",\n",
    "    \"IMPRESSION\",\n",
    "    \"Primary Diagnosis\",\n",
    "    \"Discharge Labs\",\n",
    "    \"ACUTE/ACTIVE ISSUES:\",\n",
    "    \"ACTIVE ISSUES\",\n",
    "    \"ACUTE ISSUES\",\n",
    "    \"Brief Hospital Course\",\n",
    "    \"MICROBIOLOGY\",\n",
    "    \"CXR\",\n",
    "    \"U/S\"\n",
    "\n",
    "]\n",
    "\n",
    "print('Len accepted_list: ',len(accepted_list))\n",
    "print('Len rejected_list: ',len(rejected_list))"
   ]
  },
  {
   "attachments": {},
   "cell_type": "markdown",
   "metadata": {},
   "source": [
    "## Observation:\n",
    "These words are normally excluded but important to include in the reject list: \n",
    "- \"CXR:\"  because sometimes the answer is in the same line. While ___ CXR is considered for example. \n",
    "- \"U/S: I think because it is splitted and considered only one letter so excluded. Need to consider it in the list of excluded categories."
   ]
  },
  {
   "attachments": {},
   "cell_type": "markdown",
   "metadata": {},
   "source": [
    "# New column with clean text from only recurrent sentence section"
   ]
  },
  {
   "cell_type": "code",
   "execution_count": 4,
   "metadata": {},
   "outputs": [],
   "source": [
    "df_filt = filter_text(discharge_full_df, accepted_list, rejected_list) #40 sec linux\n",
    "#df_filt.head()"
   ]
  },
  {
   "cell_type": "code",
   "execution_count": 5,
   "metadata": {},
   "outputs": [],
   "source": [
    "df_filt.to_csv(\"disharge_full_with_filtered_text.csv\")      #1.2 min linux"
   ]
  },
  {
   "attachments": {},
   "cell_type": "markdown",
   "metadata": {},
   "source": [
    "# Only new discharge with filtered text"
   ]
  },
  {
   "cell_type": "code",
   "execution_count": 6,
   "metadata": {},
   "outputs": [],
   "source": [
    "df_filt= df_filt.drop(['text'],axis=1)"
   ]
  },
  {
   "cell_type": "code",
   "execution_count": 17,
   "metadata": {},
   "outputs": [
    {
     "name": "stdout",
     "output_type": "stream",
     "text": [
      "Average words:  457.32549111798284\n",
      "Max words:  4572\n",
      "Min words:  2\n"
     ]
    }
   ],
   "source": [
    "average_words = df_filt['filtered_text'].apply(lambda x: len(x.split())).mean()\n",
    "print('Average words: ',average_words)\n",
    "\n",
    "max_words = df_filt['filtered_text'].apply(lambda x: len(x.split())).max()\n",
    "print('Max words: ',max_words)\n",
    "\n",
    "min_words = df_filt['filtered_text'].apply(lambda x: len(x.split())).min()\n",
    "print('Min words: ',min_words)"
   ]
  },
  {
   "cell_type": "code",
   "execution_count": 22,
   "metadata": {},
   "outputs": [
    {
     "data": {
      "image/png": "[encoded data removed]",
      "text/plain": [
       "<Figure size 640x480 with 1 Axes>"
      ]
     },
     "metadata": {},
     "output_type": "display_data"
    }
   ],
   "source": [
    "#split text into words and count them\n",
    "df_filt['word_count'] = df_filt['filtered_text'].str.split().str.len()\n",
    "\n",
    "\n",
    "#group by word count and count the number of rows in each group\n",
    "word_count_distribution = df_filt.groupby('word_count').size()\n",
    "\n",
    "\n",
    "#plot bar chart of word count distribution\n",
    "word_count_distribution.plot(kind='hist', bins=50, density=False)\n",
    "\n",
    "# plt.xlim(0, df_filt['word_count'].max())\n",
    "plt.xlabel('Word Count')\n",
    "plt.ylabel('Density')\n",
    "plt.title(\"Word Count after text filtering\")\n",
    "plt.show()"
   ]
  },
  {
   "cell_type": "code",
   "execution_count": 10,
   "metadata": {},
   "outputs": [
    {
     "name": "stdout",
     "output_type": "stream",
     "text": [
      "0         669\n",
      "1         204\n",
      "2         481\n",
      "3         442\n",
      "4         690\n",
      "         ... \n",
      "331789    474\n",
      "331790    203\n",
      "331791    806\n",
      "331792    623\n",
      "331793    700\n",
      "Name: word_count, Length: 331794, dtype: int64\n"
     ]
    }
   ],
   "source": [
    "print(df_filt['word_count'])"
   ]
  },
  {
   "cell_type": "code",
   "execution_count": null,
   "metadata": {},
   "outputs": [],
   "source": []
  }
 ],
 "metadata": {
  "kernelspec": {
   "display_name": "Python 3",
   "language": "python",
   "name": "python3"
  },
  "language_info": {
   "codemirror_mode": {
    "name": "ipython",
    "version": 3
   },
   "file_extension": ".py",
   "mimetype": "text/x-python",
   "name": "python",
   "nbconvert_exporter": "python",
   "pygments_lexer": "ipython3",
   "version": "3.10.6"
  },
  "orig_nbformat": 4
 },
 "nbformat": 4,
 "nbformat_minor": 2
}
